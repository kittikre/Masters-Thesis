{
 "cells": [
  {
   "cell_type": "code",
   "execution_count": 9,
   "id": "e427b867",
   "metadata": {
    "execution": {
     "iopub.execute_input": "2022-05-08T20:24:17.473583Z",
     "iopub.status.busy": "2022-05-08T20:24:17.473050Z",
     "iopub.status.idle": "2022-05-08T20:24:17.483516Z",
     "shell.execute_reply": "2022-05-08T20:24:17.482157Z",
     "shell.execute_reply.started": "2022-05-08T20:24:17.473524Z"
    },
    "lines_to_next_cell": 2,
    "tags": []
   },
   "outputs": [],
   "source": [
    "\n",
    "\n",
    "import import_ipynb\n",
    "import numpy as np\n",
    "from PreProcessing_v1 import import_tuh_abnormal\n",
    "from DataTransform import data_transform, train_valid_test_split, get_parameters_for_model\n",
    "import torch\n",
    "from braindecode.preprocessing import preprocess, Preprocessor, scale as multiply\n",
    "from braindecode.util import set_random_seeds\n",
    "from braindecode.models import ShallowFBCSPNet, Deep4Net\n",
    "from torch import optim\n",
    "from Models import create_model\n",
    "import seaborn as sns\n",
    "from sklearn.metrics import confusion_matrix, classification_report, roc_auc_score, RocCurveDisplay\n",
    "import matplotlib.pyplot as plt\n",
    "\n",
    "# # Importing TUH Abnormal dataset"
   ]
  },
  {
   "cell_type": "code",
   "execution_count": 12,
   "id": "633f0951",
   "metadata": {
    "execution": {
     "iopub.execute_input": "2022-05-08T20:26:55.473627Z",
     "iopub.status.busy": "2022-05-08T20:26:55.473101Z",
     "iopub.status.idle": "2022-05-08T20:26:55.481774Z",
     "shell.execute_reply": "2022-05-08T20:26:55.480470Z",
     "shell.execute_reply.started": "2022-05-08T20:26:55.473571Z"
    },
    "lines_to_next_cell": 2,
    "tags": []
   },
   "outputs": [],
   "source": [
    "\n",
    "#TUH_PATH = 'C:/Users/Kitti/Documents/Thesis/TUH/Abnormal/SSample'\n",
    "TUH_PATH = 'TUH EEG Abnormal dataset/Abnormal/' # specify the path to the TUH Abnormal dataset\n",
    "N_JOBS = 32  # specify the number of jobs for loading and windowing\n",
    "\n",
    "# parameters to be defined for the preprocessing pipeline\n",
    "TMIN = 1 * 60\n",
    "TMAX = 9 * 60 \n",
    "SFREQ = 100\n",
    "CLIPPING = 800"
   ]
  },
  {
   "cell_type": "code",
   "execution_count": 13,
   "id": "5d8d3b6b",
   "metadata": {
    "execution": {
     "iopub.execute_input": "2022-05-08T20:26:56.252949Z",
     "iopub.status.busy": "2022-05-08T20:26:56.252440Z",
     "iopub.status.idle": "2022-05-08T20:27:05.557216Z",
     "shell.execute_reply": "2022-05-08T20:27:05.555927Z",
     "shell.execute_reply.started": "2022-05-08T20:26:56.252892Z"
    },
    "lines_to_next_cell": 2,
    "tags": []
   },
   "outputs": [],
   "source": [
    "\n",
    "\n",
    "tuh_abnormal = import_tuh_abnormal(TUH_PATH, N_JOBS)"
   ]
  },
  {
   "cell_type": "code",
   "execution_count": 14,
   "id": "20fcefe1",
   "metadata": {
    "execution": {
     "iopub.execute_input": "2022-05-08T20:27:05.564796Z",
     "iopub.status.busy": "2022-05-08T20:27:05.564659Z",
     "iopub.status.idle": "2022-05-08T20:27:05.601001Z",
     "shell.execute_reply": "2022-05-08T20:27:05.600399Z",
     "shell.execute_reply.started": "2022-05-08T20:27:05.564778Z"
    },
    "lines_to_next_cell": 2,
    "tags": []
   },
   "outputs": [],
   "source": [
    "\n",
    "\n",
    "def create_ch_mapping():\n",
    "    short_ch_names = sorted([\n",
    "        'A1', 'A2',\n",
    "        'FP1', 'FP2', 'F3', 'F4', 'C3', 'C4', 'P3', 'P4', 'O1', 'O2',\n",
    "        'F7', 'F8', 'T3', 'T4', 'T5', 'T6', 'FZ', 'CZ', 'PZ'])\n",
    "    ar_ch_names = sorted([\n",
    "        'EEG A1-REF', 'EEG A2-REF',\n",
    "        'EEG FP1-REF', 'EEG FP2-REF', 'EEG F3-REF', 'EEG F4-REF', 'EEG C3-REF',\n",
    "        'EEG C4-REF', 'EEG P3-REF', 'EEG P4-REF', 'EEG O1-REF', 'EEG O2-REF',\n",
    "        'EEG F7-REF', 'EEG F8-REF', 'EEG T3-REF', 'EEG T4-REF', 'EEG T5-REF',\n",
    "        'EEG T6-REF', 'EEG FZ-REF', 'EEG CZ-REF', 'EEG PZ-REF'])\n",
    "    le_ch_names = sorted([\n",
    "        'EEG A1-LE', 'EEG A2-LE',\n",
    "        'EEG FP1-LE', 'EEG FP2-LE', 'EEG F3-LE', 'EEG F4-LE', 'EEG C3-LE',\n",
    "        'EEG C4-LE', 'EEG P3-LE', 'EEG P4-LE', 'EEG O1-LE', 'EEG O2-LE',\n",
    "        'EEG F7-LE', 'EEG F8-LE', 'EEG T3-LE', 'EEG T4-LE', 'EEG T5-LE',\n",
    "        'EEG T6-LE', 'EEG FZ-LE', 'EEG CZ-LE', 'EEG PZ-LE'])\n",
    "    assert len(short_ch_names) == len(ar_ch_names) == len(le_ch_names)\n",
    "    ar_ch_mapping = {ch_name: short_ch_name for ch_name, short_ch_name in zip(\n",
    "        ar_ch_names, short_ch_names)}\n",
    "    le_ch_mapping = {ch_name: short_ch_name for ch_name, short_ch_name in zip(\n",
    "        le_ch_names, short_ch_names)}\n",
    "    ch_mapping = {'ar': ar_ch_mapping, 'le': le_ch_mapping}    \n",
    "    return short_ch_names, ch_mapping\n",
    "\n",
    "\n",
    "def select_by_channels(ds, short_ch_names, ch_mapping):\n",
    "    split_ids = []\n",
    "    for i, d in enumerate(ds.datasets):\n",
    "        ref = 'ar' if d.raw.ch_names[0].endswith('-REF') else 'le'\n",
    "        # these are the channels we are looking for\n",
    "        seta = set(ch_mapping[ref].keys())\n",
    "        # these are the channels of the recoding\n",
    "        setb = set(d.raw.ch_names)\n",
    "        # if recording contains all channels we are looking for, include it\n",
    "        if seta.issubset(setb):\n",
    "            split_ids.append(i)\n",
    "    return ds.split(split_ids)['0']\n",
    "\n",
    "\n",
    "def custom_crop(raw, tmin=0.0, tmax=None, include_tmax=True):\n",
    "    # crop recordings to tmin – tmax. can be incomplete if recording\n",
    "    # has lower duration than tmax\n",
    "    # by default mne fails if tmax is bigger than duration\n",
    "    tmax = min((raw.n_times - 1) / raw.info['sfreq'], tmax)\n",
    "    raw.crop(tmin=tmin, tmax=tmax, include_tmax=include_tmax)\n",
    "    \n",
    "    \n",
    "def custom_rename_channels(raw, mapping):\n",
    "    # rename channels which are dependent on referencing:\n",
    "    # le: EEG 01-LE, ar: EEG 01-REF\n",
    "    # mne fails if the mapping contains channels as keys that are not present\n",
    "    # in the raw\n",
    "    reference = raw.ch_names[0].split('-')[-1].lower()\n",
    "    assert reference in ['le', 'ref'], 'unexpected referencing'\n",
    "    reference = 'le' if reference == 'le' else 'ar'\n",
    "    raw.rename_channels(mapping[reference])\n",
    "    \n",
    "short_ch_names, ch_mapping = create_ch_mapping()\n",
    "\n",
    "preprocessors = [\n",
    "        Preprocessor(custom_crop, tmin=TMIN, tmax=TMAX, include_tmax=True,\n",
    "                     apply_on_array=False),\n",
    "        Preprocessor('set_eeg_reference', ref_channels='average', ch_type='eeg'), # mne Raw class function\n",
    "        Preprocessor(custom_rename_channels, mapping=ch_mapping, # rename channels to short channel names\n",
    "                     apply_on_array=False), #\n",
    "        Preprocessor('pick_channels', ch_names=short_ch_names, ordered=True), # mne Raw class function\n",
    "        Preprocessor(multiply, factor=1e6, apply_on_array=True), # scaling signals to microvolt\n",
    "        Preprocessor(np.clip, a_min=-CLIPPING, a_max=CLIPPING, apply_on_array=True), # clip outlier values to +/- 800 micro volts\n",
    "        Preprocessor('resample', sfreq=SFREQ), # mne Raw class function\n",
    "    ]"
   ]
  },
  {
   "cell_type": "code",
   "execution_count": 15,
   "id": "c933580e",
   "metadata": {
    "execution": {
     "iopub.execute_input": "2022-05-08T20:27:05.602771Z",
     "iopub.status.busy": "2022-05-08T20:27:05.602619Z",
     "iopub.status.idle": "2022-05-08T20:28:10.101894Z",
     "shell.execute_reply": "2022-05-08T20:28:10.100257Z",
     "shell.execute_reply.started": "2022-05-08T20:27:05.602753Z"
    },
    "lines_to_next_cell": 2,
    "tags": []
   },
   "outputs": [],
   "source": [
    "\n",
    "\n",
    "tuh_preproc = preprocess(\n",
    "        concat_ds=tuh_abnormal,\n",
    "        preprocessors=preprocessors,\n",
    "        n_jobs=N_JOBS,\n",
    "        save_dir=None\n",
    "    )\n",
    "\n",
    "\n",
    "# # Data Transform"
   ]
  },
  {
   "cell_type": "code",
   "execution_count": 16,
   "id": "d664e08c",
   "metadata": {
    "execution": {
     "iopub.execute_input": "2022-05-08T20:28:10.104136Z",
     "iopub.status.busy": "2022-05-08T20:28:10.103944Z",
     "iopub.status.idle": "2022-05-08T20:28:10.393621Z",
     "shell.execute_reply": "2022-05-08T20:28:10.392893Z",
     "shell.execute_reply.started": "2022-05-08T20:28:10.104111Z"
    },
    "tags": []
   },
   "outputs": [],
   "source": [
    "TRAIN_SIZE=0.9\n",
    "tuh_train, tuh_val, tuh_test = train_valid_test_split(tuh_preproc, train_size=TRAIN_SIZE)\n",
    "\n"
   ]
  },
  {
   "cell_type": "code",
   "execution_count": 17,
   "id": "02f05702",
   "metadata": {
    "execution": {
     "iopub.execute_input": "2022-05-08T20:28:10.394716Z",
     "iopub.status.busy": "2022-05-08T20:28:10.394541Z",
     "iopub.status.idle": "2022-05-08T20:28:10.398168Z",
     "shell.execute_reply": "2022-05-08T20:28:10.397611Z",
     "shell.execute_reply.started": "2022-05-08T20:28:10.394694Z"
    },
    "tags": []
   },
   "outputs": [],
   "source": [
    "\n",
    "\n",
    "# Extract number of chans and time steps from dataset\n",
    "\n"
   ]
  },
  {
   "cell_type": "code",
   "execution_count": 18,
   "id": "ce13b445",
   "metadata": {
    "execution": {
     "iopub.execute_input": "2022-05-08T20:28:10.399042Z",
     "iopub.status.busy": "2022-05-08T20:28:10.398914Z",
     "iopub.status.idle": "2022-05-08T20:28:10.587840Z",
     "shell.execute_reply": "2022-05-08T20:28:10.586839Z",
     "shell.execute_reply.started": "2022-05-08T20:28:10.399025Z"
    },
    "tags": []
   },
   "outputs": [
    {
     "data": {
      "text/plain": [
       "ShallowFBCSPNet(\n",
       "  (ensuredims): Ensure4d()\n",
       "  (dimshuffle): Expression(expression=transpose_time_to_spat) \n",
       "  (conv_time): Conv2d(1, 40, kernel_size=(25, 1), stride=(1, 1))\n",
       "  (conv_spat): Conv2d(40, 40, kernel_size=(1, 21), stride=(1, 1), bias=False)\n",
       "  (bnorm): BatchNorm2d(40, eps=1e-05, momentum=0.1, affine=True, track_running_stats=True)\n",
       "  (conv_nonlin_exp): Expression(expression=square) \n",
       "  (pool): AvgPool2d(kernel_size=(75, 1), stride=(15, 1), padding=0)\n",
       "  (pool_nonlin_exp): Expression(expression=safe_log) \n",
       "  (drop): Dropout(p=0.5, inplace=False)\n",
       "  (conv_classifier): Conv2d(40, 2, kernel_size=(25, 1), stride=(1, 1))\n",
       "  (softmax): LogSoftmax(dim=1)\n",
       "  (squeeze): Expression(expression=squeeze_final_output) \n",
       ")"
      ]
     },
     "execution_count": 18,
     "metadata": {},
     "output_type": "execute_result"
    }
   ],
   "source": [
    "\n",
    "\n",
    "cuda = torch.cuda.is_available()  # check if GPU is available, if True chooses to use it\n",
    "device = 'cuda' if cuda else 'cpu'\n",
    "if cuda:\n",
    "    torch.backends.cudnn.benchmark = True\n",
    "# Set random seed to be able to roughly reproduce results\n",
    "# Note that with cudnn benchmark set to True, GPU indeterminism\n",
    "# may still make results substantially different between runs.\n",
    "# To obtain more consistent results at the cost of increased computation time,\n",
    "# you can set `cudnn_benchmark=False` in `set_random_seeds`\n",
    "# or remove `torch.backends.cudnn.benchmark = True`\n",
    "seed = 20200220\n",
    "set_random_seeds(seed=seed, cuda=cuda)\n",
    "\n",
    "# Required parameters for model creation\n",
    "# \n",
    "INPUT_WIN_SAMPLES = 6000\n",
    "INC_CHANS, INPUT_SIZE_SAMPLES = get_parameters_for_model(tuh_train)\n",
    "N_CLASSES = 2\n",
    "MODEL_NAME = \"shallow\" # it can either be shallow, deep, or hybrid\n",
    "FINAL_CONV_LENGTH = 25\n",
    "\n",
    "model = create_model(MODEL_NAME, INC_CHANS, N_CLASSES, INPUT_WIN_SAMPLES, FINAL_CONV_LENGTH)\n",
    "\n",
    "\n",
    "# If available, use multiple GPUs for training and testing\n",
    "\n",
    "if cuda:\n",
    "    device = \"cuda:0\"\n",
    "    if torch.cuda.device_count() > 1:\n",
    "        model = torch.nn.DataParallel(model)\n",
    "model.to(device)\n",
    "    \n",
    "    "
   ]
  },
  {
   "cell_type": "code",
   "execution_count": 19,
   "id": "2e1b5be5",
   "metadata": {
    "execution": {
     "iopub.execute_input": "2022-05-08T20:28:10.589194Z",
     "iopub.status.busy": "2022-05-08T20:28:10.589004Z",
     "iopub.status.idle": "2022-05-08T20:29:03.792783Z",
     "shell.execute_reply": "2022-05-08T20:29:03.791057Z",
     "shell.execute_reply.started": "2022-05-08T20:28:10.589172Z"
    },
    "lines_to_next_cell": 2,
    "tags": []
   },
   "outputs": [],
   "source": [
    "BATCH_SIZE=64\n",
    "train_loader, val_loader, test_loader = data_transform(tuh_train, tuh_val, tuh_test, model, N_JOBS, train_size=TRAIN_SIZE, batch_size=BATCH_SIZE, input_window_samples=INPUT_WIN_SAMPLES, in_chans = INC_CHANS)"
   ]
  },
  {
   "cell_type": "code",
   "execution_count": 20,
   "id": "ddc08eac",
   "metadata": {
    "execution": {
     "iopub.execute_input": "2022-05-08T20:29:03.795928Z",
     "iopub.status.busy": "2022-05-08T20:29:03.795517Z",
     "iopub.status.idle": "2022-05-08T20:29:03.804182Z",
     "shell.execute_reply": "2022-05-08T20:29:03.803588Z",
     "shell.execute_reply.started": "2022-05-08T20:29:03.795875Z"
    },
    "tags": []
   },
   "outputs": [
    {
     "data": {
      "text/plain": [
       "4392"
      ]
     },
     "execution_count": 20,
     "metadata": {},
     "output_type": "execute_result"
    }
   ],
   "source": [
    "\n",
    "\n",
    "len(train_loader)\n",
    "\n",
    "\n",
    "# # Training and testing"
   ]
  },
  {
   "cell_type": "code",
   "execution_count": 22,
   "id": "172b5740",
   "metadata": {
    "execution": {
     "iopub.execute_input": "2022-05-08T20:30:55.278663Z",
     "iopub.status.busy": "2022-05-08T20:30:55.278134Z",
     "iopub.status.idle": "2022-05-08T20:30:55.285288Z",
     "shell.execute_reply": "2022-05-08T20:30:55.284065Z",
     "shell.execute_reply.started": "2022-05-08T20:30:55.278604Z"
    },
    "lines_to_next_cell": 2,
    "tags": []
   },
   "outputs": [],
   "source": [
    "\n",
    "\n",
    "from TrainingValidationTesting_CNNs import train_model, test_model"
   ]
  },
  {
   "cell_type": "code",
   "execution_count": 23,
   "id": "97ffc089",
   "metadata": {
    "execution": {
     "iopub.execute_input": "2022-05-08T20:31:00.585699Z",
     "iopub.status.busy": "2022-05-08T20:31:00.585173Z",
     "iopub.status.idle": "2022-05-08T20:31:00.594727Z",
     "shell.execute_reply": "2022-05-08T20:31:00.593558Z",
     "shell.execute_reply.started": "2022-05-08T20:31:00.585640Z"
    },
    "lines_to_next_cell": 2,
    "tags": []
   },
   "outputs": [],
   "source": [
    "\n",
    "\n",
    "# hyperparameters for training the model\n",
    "lr =  0.01\n",
    "optimizer = optim.Adam(params=model.parameters(), lr=lr)\n",
    "criterion = torch.nn.NLLLoss()\n",
    "# criterion = torch.nn.BCELoss()\n",
    "n_epochs = 35  \n",
    "patience = 10\n",
    "\n",
    "# Using multiple GPUs\n",
    "# model = torch.nn.DataParallel(model)"
   ]
  },
  {
   "cell_type": "code",
   "execution_count": null,
   "id": "5ef75555",
   "metadata": {
    "execution": {
     "iopub.execute_input": "2022-05-08T20:31:01.739295Z",
     "iopub.status.busy": "2022-05-08T20:31:01.738807Z"
    },
    "tags": []
   },
   "outputs": [
    {
     "name": "stdout",
     "output_type": "stream",
     "text": [
      "Time: 05/08/2022, 22:33:40. . [1/35, 220/4392] train_loss: 12.7201, train_acc: 0.56\n",
      "Time: 05/08/2022, 22:36:14. . [1/35, 440/4392] train_loss: 10.9953, train_acc: 0.56\n",
      "Time: 05/08/2022, 22:38:39. . [1/35, 660/4392] train_loss: 11.6241, train_acc: 0.566\n",
      "Time: 05/08/2022, 22:41:23. . [1/35, 880/4392] train_loss: 11.362, train_acc: 0.567\n",
      "Time: 05/08/2022, 22:43:46. . [1/35, 1100/4392] train_loss: 10.5748, train_acc: 0.569\n",
      "Time: 05/08/2022, 22:46:14. . [1/35, 1320/4392] train_loss: 10.2713, train_acc: 0.572\n",
      "Time: 05/08/2022, 22:48:49. . [1/35, 1540/4392] train_loss: 10.5787, train_acc: 0.574\n",
      "Time: 05/08/2022, 22:51:11. . [1/35, 1760/4392] train_loss: 12.1394, train_acc: 0.576\n",
      "Time: 05/08/2022, 22:53:28. . [1/35, 1980/4392] train_loss: 13.7602, train_acc: 0.576\n",
      "Time: 05/08/2022, 22:55:54. . [1/35, 2200/4392] train_loss: 14.4098, train_acc: 0.575\n",
      "Time: 05/08/2022, 22:58:42. . [1/35, 2420/4392] train_loss: 14.4685, train_acc: 0.575\n",
      "Time: 05/08/2022, 23:01:19. . [1/35, 2640/4392] train_loss: 14.5347, train_acc: 0.574\n",
      "Time: 05/08/2022, 23:04:01. . [1/35, 2860/4392] train_loss: 14.8954, train_acc: 0.574\n",
      "Time: 05/08/2022, 23:07:12. . [1/35, 3080/4392] train_loss: 15.5143, train_acc: 0.573\n",
      "Time: 05/08/2022, 23:09:42. . [1/35, 3300/4392] train_loss: 15.4957, train_acc: 0.572\n",
      "Time: 05/08/2022, 23:12:23. . [1/35, 3520/4392] train_loss: 15.8604, train_acc: 0.572\n",
      "Time: 05/08/2022, 23:15:00. . [1/35, 3740/4392] train_loss: 16.1299, train_acc: 0.571\n",
      "Time: 05/08/2022, 23:17:30. . [1/35, 3960/4392] train_loss: 16.3262, train_acc: 0.571\n"
     ]
    }
   ],
   "source": [
    "\n",
    "trained_model, train_losses, train_accs, valid_losses, valid_accs = train_model(model, device, criterion, optimizer, train_loader, val_loader, n_epochs, patience)"
   ]
  },
  {
   "cell_type": "code",
   "execution_count": null,
   "id": "b223fcfe",
   "metadata": {
    "tags": []
   },
   "outputs": [],
   "source": [
    "\n",
    "\n",
    "# trained_model.to(device)\n",
    "\n"
   ]
  },
  {
   "cell_type": "code",
   "execution_count": null,
   "id": "f2bae9c3",
   "metadata": {
    "lines_to_next_cell": 2,
    "tags": []
   },
   "outputs": [],
   "source": [
    "\n",
    "\n",
    "x_test, y_test, y_pred, accuracy = test_model(device, trained_model, test_loader)"
   ]
  },
  {
   "cell_type": "code",
   "execution_count": null,
   "id": "d602fc41",
   "metadata": {
    "lines_to_next_cell": 2
   },
   "outputs": [],
   "source": [
    "\n",
    "\n",
    "# Save the trained model\n",
    "\n",
    "PATH = './cnnshallow8min.pth'\n",
    "torch.save(model.state_dict(), PATH)\n",
    "\n"
   ]
  },
  {
   "cell_type": "code",
   "execution_count": null,
   "id": "fc052004-108d-4a59-91b9-d3bbb1336c7b",
   "metadata": {},
   "outputs": [],
   "source": [
    "#how to reload the saved model:\n",
    "'''\n",
    "model = ShallowFBCSPNet(\n",
    "    in_chans,\n",
    "    n_classes,\n",
    "    input_window_samples=INPUT_WIN_SAMPLES,\n",
    "    final_conv_length=1,\n",
    ")\n",
    "\n",
    "model.load_state_dict(torch.load(PATH))\n",
    "'''"
   ]
  },
  {
   "cell_type": "code",
   "execution_count": null,
   "id": "935cc0a6",
   "metadata": {
    "lines_to_next_cell": 2,
    "title": "Transform tensors from test_model"
   },
   "outputs": [],
   "source": [
    "# Reshaping tensors\n",
    "\n",
    "x_test = x_test.flatten().cpu()\n",
    "y_test = y_test.flatten().cpu()\n",
    "y_pred = y_pred.flatten().cpu()"
   ]
  },
  {
   "cell_type": "code",
   "execution_count": null,
   "id": "9da2969b",
   "metadata": {
    "title": "Training losses and accuracy plot"
   },
   "outputs": [],
   "source": [
    "\n",
    "fig,ax = plt.subplots()\n",
    "ax.plot(train_losses, marker=\"o\", color=\"orangered\", label=\"Training loss\")\n",
    "ax.set_xlabel(\"Number of epochs\")\n",
    "ax.set_ylabel(\"Loss\", color=\"orangered\")\n",
    "\n",
    "# twin object for two different y-axis on the sample plot\n",
    "ax2=ax.twinx()\n",
    "ax2.plot(train_accs, marker=\"o\", color=\"cornflowerblue\", label=\"Training accuracy\")\n",
    "ax2.set_ylabel(\"Accuracy\", color=\"cornflowerblue\")\n",
    "\n",
    "plt.title(\"Training loss and accuracy per epoch\", fontsize=14)\n",
    "plt.show()\n"
   ]
  },
  {
   "cell_type": "code",
   "execution_count": null,
   "id": "5ac27314-18f4-4f68-b7e7-65ed4c0fb05e",
   "metadata": {},
   "outputs": [],
   "source": [
    "# save the plot as a file\n",
    "'''\n",
    "fig.savefig('two_different_y_axis_for_single_python_plot_with_twinx.jpg',\n",
    "            format='jpeg',\n",
    "            dpi=100,\n",
    "            bbox_inches='tight')\n",
    "'''"
   ]
  },
  {
   "cell_type": "code",
   "execution_count": null,
   "id": "d12d90fe-5d5b-437d-8435-ff4cb6332f41",
   "metadata": {},
   "outputs": [],
   "source": [
    "# In[87]: Learning curve with training and validation loss\n",
    "\n",
    "plt.plot(train_losses, marker=\".\", color=\"cornflowerblue\", label='Training loss')\n",
    "plt.plot(valid_losses, marker=\".\", color=\"mediumseagreen\", label='Validation loss')\n",
    "plt.title('Training and Validation Losses', fontsize=14)\n",
    "plt.xlabel('Number of epochs')\n",
    "plt.legend(frameon=False)\n",
    "plt.show()"
   ]
  },
  {
   "cell_type": "code",
   "execution_count": null,
   "id": "67815edf",
   "metadata": {
    "title": "Learning curve or training and validation accuracy"
   },
   "outputs": [],
   "source": [
    "\n",
    "plt.plot(train_accs, marker=\".\", color=\"cornflowerblue\", label='Training loss')\n",
    "plt.plot(valid_losses, marker=\".\", color=\"mediumseagreen\", label='Validation loss')\n",
    "plt.title('Training and Validation Losses', fontsize=14)\n",
    "plt.xlabel('Number of epochs')\n",
    "plt.legend(frameon=False)\n",
    "plt.show()"
   ]
  },
  {
   "cell_type": "code",
   "execution_count": null,
   "id": "29d59d7b",
   "metadata": {
    "title": "ROC Curve plot"
   },
   "outputs": [],
   "source": [
    "''' \n",
    "The ROC Curve plots two parameters: the True Positive Rate (TPR), a synonim to recall,\n",
    "and the False Positive Rate (FPR). \n",
    "The plot also shows the ROC AUC score.\n",
    "By default, the class considered as the positive (It means Abnormal in our case).\n",
    "\n",
    "'''\n",
    "\n",
    "RocCurveDisplay.from_predictions(y_test, y_pred, pos_label=None)\n",
    "plt.show()\n",
    "\n",
    "\n",
    "# In[90]: Confusion matrix and Classification Report\n",
    "\n",
    "conf_matrix = confusion_matrix(y_test, y_pred)\n",
    "cl_report = classification_report(y_test, y_pred)"
   ]
  },
  {
   "cell_type": "code",
   "execution_count": null,
   "id": "c4f05bdf",
   "metadata": {
    "title": "Print classification report"
   },
   "outputs": [],
   "source": [
    "\n",
    "print(cl_report)"
   ]
  },
  {
   "cell_type": "code",
   "execution_count": null,
   "id": "524ec8cb",
   "metadata": {
    "lines_to_next_cell": 2,
    "title": "Plot Confusion matrix"
   },
   "outputs": [],
   "source": [
    "\n",
    "group_names = ['True Neg','False Pos','False Neg','True Pos']\n",
    "group_counts = [\"{0:0.0f}\".format(value) for value in\n",
    "                conf_matrix.flatten()]\n",
    "group_percentages = [\"{0:.2%}\".format(value) for value in\n",
    "                     conf_matrix.flatten()/np.sum(conf_matrix)]\n",
    "labels = [f\"{v1}\\n{v2}\\n{v3}\" for v1, v2, v3 in\n",
    "          zip(group_names,group_counts,group_percentages)]\n",
    "labels = np.asarray(labels).reshape(2,2)\n",
    "sns.heatmap(conf_matrix, annot=labels, fmt='', cmap='YlGn')\n",
    "\n",
    "\n",
    "\n",
    "\n"
   ]
  }
 ],
 "metadata": {
  "jupytext": {
   "cell_metadata_filter": "title,-all",
   "encoding": "# coding: utf-8",
   "executable": "/usr/bin/env python",
   "main_language": "python",
   "notebook_metadata_filter": "-all"
  },
  "kernelspec": {
   "display_name": "Python 3 ",
   "language": "python",
   "name": "python3"
  },
  "language_info": {
   "codemirror_mode": {
    "name": "ipython",
    "version": 3
   },
   "file_extension": ".py",
   "mimetype": "text/x-python",
   "name": "python",
   "nbconvert_exporter": "python",
   "pygments_lexer": "ipython3",
   "version": "3.9.10"
  }
 },
 "nbformat": 4,
 "nbformat_minor": 5
}
