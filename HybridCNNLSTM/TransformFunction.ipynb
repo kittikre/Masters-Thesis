{
 "cells": [
  {
   "cell_type": "code",
   "execution_count": null,
   "id": "02c2c961",
   "metadata": {},
   "outputs": [],
   "source": [
    "\"\"\"\n",
    "Created on Fri May  6 09:05:23 2022\n",
    "\n",
    "@author: Kitti\n",
    "\"\"\"\n",
    "\n",
    "def reshape_lstm_input(x):\n",
    "    \"\"\"Reshape Conv2d output to 3D,\n",
    "    match LSTM input\n",
    "    -------\n",
    "    x: torch.Tensor\n",
    "        reshaped tensor\n",
    "    \"\"\"\n",
    "    x = x.view(x.size(0), -1, x.size(3)) # [batch_size, features=channels*height, seq_len=width]\n",
    "    # [batch_size, seq_len, features] as batch_first=True\n",
    "    return x.permute(0, 2, 1)\n",
    "\n",
    "\n",
    "def extract_output_from_lstm(x):\n",
    "    \"\"\"\n",
    "\n",
    "    Parameters\n",
    "    ----------\n",
    "    x : torch.Tensor\n",
    "        DESCRIPTION.\n",
    "\n",
    "    Returns\n",
    "    x: output of the LSTM layer\n",
    "\n",
    "    \"\"\"\n",
    "    x = x[0]\n",
    "    return x"
   ]
  },
  {
   "cell_type": "code",
   "execution_count": null,
   "id": "c7c56ac9",
   "metadata": {
    "lines_to_next_cell": 0
   },
   "outputs": [],
   "source": [
    "import torch\n",
    "from torch import nn\n",
    "\n",
    "rnn = nn.LSTM(740, 370, 2, batch_first=True)\n",
    "inp = torch.randn(1, 1, 740)\n",
    "'''\n",
    "\n",
    "\n",
    "h0 = torch.randn(2, 3, 20)\n",
    "c0 = torch.randn(2, 3, 20)\n",
    "'''"
   ]
  },
  {
   "cell_type": "code",
   "execution_count": null,
   "id": "dc704ea8",
   "metadata": {
    "lines_to_next_cell": 2
   },
   "outputs": [],
   "source": [
    "\n",
    "output, (hn_1, cn_1) = rnn(inp)"
   ]
  }
 ],
 "metadata": {
  "jupytext": {
   "cell_metadata_filter": "-all",
   "encoding": "# -*- coding: utf-8 -*-",
   "main_language": "python",
   "notebook_metadata_filter": "-all"
  }
 },
 "nbformat": 4,
 "nbformat_minor": 5
}
