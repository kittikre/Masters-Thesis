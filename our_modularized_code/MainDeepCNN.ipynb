{
 "cells": [
  {
   "cell_type": "code",
   "execution_count": 1,
   "id": "663a4abd-94a0-414d-adc5-03eb62b38597",
   "metadata": {
    "execution": {
     "iopub.execute_input": "2022-05-03T16:49:17.782987Z",
     "iopub.status.busy": "2022-05-03T16:49:17.782396Z",
     "iopub.status.idle": "2022-05-03T16:50:29.631222Z",
     "shell.execute_reply": "2022-05-03T16:50:29.628199Z",
     "shell.execute_reply.started": "2022-05-03T16:49:17.782922Z"
    },
    "tags": []
   },
   "outputs": [
    {
     "name": "stdout",
     "output_type": "stream",
     "text": [
      "Collecting import_ipynb\n",
      "  Downloading import_ipynb-0.1.4-py3-none-any.whl (4.1 kB)\n",
      "Requirement already satisfied: nbformat in /opt/conda/lib/python3.9/site-packages (from import_ipynb) (5.2.0)\n",
      "Requirement already satisfied: IPython in /opt/conda/lib/python3.9/site-packages (from import_ipynb) (8.2.0)\n",
      "Requirement already satisfied: setuptools>=18.5 in /opt/conda/lib/python3.9/site-packages (from IPython->import_ipynb) (61.2.0)\n",
      "Requirement already satisfied: pexpect>4.3 in /opt/conda/lib/python3.9/site-packages (from IPython->import_ipynb) (4.8.0)\n",
      "Requirement already satisfied: pickleshare in /opt/conda/lib/python3.9/site-packages (from IPython->import_ipynb) (0.7.5)\n",
      "Requirement already satisfied: jedi>=0.16 in /opt/conda/lib/python3.9/site-packages (from IPython->import_ipynb) (0.18.1)\n",
      "Requirement already satisfied: traitlets>=5 in /opt/conda/lib/python3.9/site-packages (from IPython->import_ipynb) (5.1.1)\n",
      "Requirement already satisfied: backcall in /opt/conda/lib/python3.9/site-packages (from IPython->import_ipynb) (0.2.0)\n",
      "Requirement already satisfied: prompt-toolkit!=3.0.0,!=3.0.1,<3.1.0,>=2.0.0 in /opt/conda/lib/python3.9/site-packages (from IPython->import_ipynb) (3.0.27)\n",
      "Requirement already satisfied: matplotlib-inline in /opt/conda/lib/python3.9/site-packages (from IPython->import_ipynb) (0.1.3)\n",
      "Requirement already satisfied: stack-data in /opt/conda/lib/python3.9/site-packages (from IPython->import_ipynb) (0.2.0)\n",
      "Requirement already satisfied: pygments>=2.4.0 in /opt/conda/lib/python3.9/site-packages (from IPython->import_ipynb) (2.11.2)\n",
      "Requirement already satisfied: decorator in /opt/conda/lib/python3.9/site-packages (from IPython->import_ipynb) (5.1.1)\n",
      "Requirement already satisfied: jupyter-core in /opt/conda/lib/python3.9/site-packages (from nbformat->import_ipynb) (4.9.2)\n",
      "Requirement already satisfied: jsonschema!=2.5.0,>=2.4 in /opt/conda/lib/python3.9/site-packages (from nbformat->import_ipynb) (4.4.0)\n",
      "Requirement already satisfied: parso<0.9.0,>=0.8.0 in /opt/conda/lib/python3.9/site-packages (from jedi>=0.16->IPython->import_ipynb) (0.8.3)\n",
      "Requirement already satisfied: attrs>=17.4.0 in /opt/conda/lib/python3.9/site-packages (from jsonschema!=2.5.0,>=2.4->nbformat->import_ipynb) (21.4.0)\n",
      "Requirement already satisfied: pyrsistent!=0.17.0,!=0.17.1,!=0.17.2,>=0.14.0 in /opt/conda/lib/python3.9/site-packages (from jsonschema!=2.5.0,>=2.4->nbformat->import_ipynb) (0.18.1)\n",
      "Requirement already satisfied: ptyprocess>=0.5 in /opt/conda/lib/python3.9/site-packages (from pexpect>4.3->IPython->import_ipynb) (0.7.0)\n",
      "Requirement already satisfied: wcwidth in /opt/conda/lib/python3.9/site-packages (from prompt-toolkit!=3.0.0,!=3.0.1,<3.1.0,>=2.0.0->IPython->import_ipynb) (0.2.5)\n",
      "Requirement already satisfied: executing in /opt/conda/lib/python3.9/site-packages (from stack-data->IPython->import_ipynb) (0.8.3)\n",
      "Requirement already satisfied: asttokens in /opt/conda/lib/python3.9/site-packages (from stack-data->IPython->import_ipynb) (2.0.5)\n",
      "Requirement already satisfied: pure-eval in /opt/conda/lib/python3.9/site-packages (from stack-data->IPython->import_ipynb) (0.2.2)\n",
      "Requirement already satisfied: six in /opt/conda/lib/python3.9/site-packages (from asttokens->stack-data->IPython->import_ipynb) (1.16.0)\n",
      "Installing collected packages: import_ipynb\n",
      "Successfully installed import_ipynb-0.1.4\n",
      "Collecting seaborn\n",
      "  Downloading seaborn-0.11.2-py3-none-any.whl (292 kB)\n",
      "\u001b[2K     \u001b[90m━━━━━━━━━━━━━━━━━━━━━━━━━━━━━━━━━━━━━━━\u001b[0m \u001b[32m292.8/292.8 KB\u001b[0m \u001b[31m4.2 MB/s\u001b[0m eta \u001b[36m0:00:00\u001b[0m00:01\u001b[0m\n",
      "\u001b[?25hRequirement already satisfied: matplotlib>=2.2 in /opt/conda/lib/python3.9/site-packages (from seaborn) (3.5.1)\n",
      "Requirement already satisfied: numpy>=1.15 in /opt/conda/lib/python3.9/site-packages (from seaborn) (1.22.3)\n",
      "Collecting scipy>=1.0\n",
      "  Downloading scipy-1.8.0-cp39-cp39-manylinux_2_17_x86_64.manylinux2014_x86_64.whl (42.1 MB)\n",
      "\u001b[2K     \u001b[90m━━━━━━━━━━━━━━━━━━━━━━━━━━━━━━━━━━━━━━━━\u001b[0m \u001b[32m42.1/42.1 MB\u001b[0m \u001b[31m45.0 MB/s\u001b[0m eta \u001b[36m0:00:00\u001b[0m00:01\u001b[0m00:01\u001b[0m\n",
      "\u001b[?25hCollecting pandas>=0.23\n",
      "  Downloading pandas-1.4.2-cp39-cp39-manylinux_2_17_x86_64.manylinux2014_x86_64.whl (11.7 MB)\n",
      "\u001b[2K     \u001b[90m━━━━━━━━━━━━━━━━━━━━━━━━━━━━━━━━━━━━━━━━\u001b[0m \u001b[32m11.7/11.7 MB\u001b[0m \u001b[31m32.6 MB/s\u001b[0m eta \u001b[36m0:00:00\u001b[0m00:01\u001b[0m00:01\u001b[0m\n",
      "\u001b[?25hRequirement already satisfied: python-dateutil>=2.7 in /opt/conda/lib/python3.9/site-packages (from matplotlib>=2.2->seaborn) (2.8.2)\n",
      "Requirement already satisfied: fonttools>=4.22.0 in /opt/conda/lib/python3.9/site-packages (from matplotlib>=2.2->seaborn) (4.31.2)\n",
      "Requirement already satisfied: pyparsing>=2.2.1 in /opt/conda/lib/python3.9/site-packages (from matplotlib>=2.2->seaborn) (3.0.7)\n",
      "Requirement already satisfied: cycler>=0.10 in /opt/conda/lib/python3.9/site-packages (from matplotlib>=2.2->seaborn) (0.11.0)\n",
      "Requirement already satisfied: pillow>=6.2.0 in /opt/conda/lib/python3.9/site-packages (from matplotlib>=2.2->seaborn) (9.0.1)\n",
      "Requirement already satisfied: packaging>=20.0 in /opt/conda/lib/python3.9/site-packages (from matplotlib>=2.2->seaborn) (21.3)\n",
      "Requirement already satisfied: kiwisolver>=1.0.1 in /opt/conda/lib/python3.9/site-packages (from matplotlib>=2.2->seaborn) (1.4.2)\n",
      "Requirement already satisfied: pytz>=2020.1 in /opt/conda/lib/python3.9/site-packages (from pandas>=0.23->seaborn) (2022.1)\n",
      "Requirement already satisfied: six>=1.5 in /opt/conda/lib/python3.9/site-packages (from python-dateutil>=2.7->matplotlib>=2.2->seaborn) (1.16.0)\n",
      "Installing collected packages: scipy, pandas, seaborn\n",
      "Successfully installed pandas-1.4.2 scipy-1.8.0 seaborn-0.11.2\n",
      "Collecting torch\n",
      "  Downloading torch-1.11.0-cp39-cp39-manylinux1_x86_64.whl (750.6 MB)\n",
      "\u001b[2K     \u001b[90m━━━━━━━━━━━━━━━━━━━━━━━━━━━━━━━━━━━━━━━\u001b[0m \u001b[32m750.6/750.6 MB\u001b[0m \u001b[31m5.6 MB/s\u001b[0m eta \u001b[36m0:00:00\u001b[0m00:01\u001b[0m00:01\u001b[0m\n",
      "\u001b[?25hRequirement already satisfied: typing-extensions in /opt/conda/lib/python3.9/site-packages (from torch) (4.1.1)\n",
      "Installing collected packages: torch\n",
      "Successfully installed torch-1.11.0\n",
      "Collecting mne\n",
      "  Downloading mne-1.0.2-py3-none-any.whl (7.5 MB)\n",
      "\u001b[2K     \u001b[90m━━━━━━━━━━━━━━━━━━━━━━━━━━━━━━━━━━━━━━━━\u001b[0m \u001b[32m7.5/7.5 MB\u001b[0m \u001b[31m35.8 MB/s\u001b[0m eta \u001b[36m0:00:00\u001b[0m00:01\u001b[0m00:01\u001b[0m\n",
      "\u001b[?25hRequirement already satisfied: tqdm in /opt/conda/lib/python3.9/site-packages (from mne) (4.63.1)\n",
      "Requirement already satisfied: packaging in /opt/conda/lib/python3.9/site-packages (from mne) (21.3)\n",
      "Requirement already satisfied: decorator in /opt/conda/lib/python3.9/site-packages (from mne) (5.1.1)\n",
      "Requirement already satisfied: scipy>=1.1.0 in /opt/conda/lib/python3.9/site-packages (from mne) (1.8.0)\n",
      "Requirement already satisfied: numpy>=1.15.4 in /opt/conda/lib/python3.9/site-packages (from mne) (1.22.3)\n",
      "Collecting pooch>=1.5\n",
      "  Downloading pooch-1.6.0-py3-none-any.whl (56 kB)\n",
      "\u001b[2K     \u001b[90m━━━━━━━━━━━━━━━━━━━━━━━━━━━━━━━━━━━━━━━━\u001b[0m \u001b[32m56.3/56.3 KB\u001b[0m \u001b[31m3.3 MB/s\u001b[0m eta \u001b[36m0:00:00\u001b[0m\n",
      "\u001b[?25hRequirement already satisfied: matplotlib in /opt/conda/lib/python3.9/site-packages (from mne) (3.5.1)\n",
      "Requirement already satisfied: jinja2 in /opt/conda/lib/python3.9/site-packages (from mne) (3.0.3)\n",
      "Requirement already satisfied: requests>=2.19.0 in /opt/conda/lib/python3.9/site-packages (from pooch>=1.5->mne) (2.27.1)\n",
      "Collecting appdirs>=1.3.0\n",
      "  Downloading appdirs-1.4.4-py2.py3-none-any.whl (9.6 kB)\n",
      "Requirement already satisfied: pyparsing!=3.0.5,>=2.0.2 in /opt/conda/lib/python3.9/site-packages (from packaging->mne) (3.0.7)\n",
      "Requirement already satisfied: MarkupSafe>=2.0 in /opt/conda/lib/python3.9/site-packages (from jinja2->mne) (2.1.1)\n",
      "Requirement already satisfied: python-dateutil>=2.7 in /opt/conda/lib/python3.9/site-packages (from matplotlib->mne) (2.8.2)\n",
      "Requirement already satisfied: kiwisolver>=1.0.1 in /opt/conda/lib/python3.9/site-packages (from matplotlib->mne) (1.4.2)\n",
      "Requirement already satisfied: cycler>=0.10 in /opt/conda/lib/python3.9/site-packages (from matplotlib->mne) (0.11.0)\n",
      "Requirement already satisfied: pillow>=6.2.0 in /opt/conda/lib/python3.9/site-packages (from matplotlib->mne) (9.0.1)\n",
      "Requirement already satisfied: fonttools>=4.22.0 in /opt/conda/lib/python3.9/site-packages (from matplotlib->mne) (4.31.2)\n",
      "Requirement already satisfied: six>=1.5 in /opt/conda/lib/python3.9/site-packages (from python-dateutil>=2.7->matplotlib->mne) (1.16.0)\n",
      "Requirement already satisfied: certifi>=2017.4.17 in /opt/conda/lib/python3.9/site-packages (from requests>=2.19.0->pooch>=1.5->mne) (2021.10.8)\n",
      "Requirement already satisfied: charset-normalizer~=2.0.0 in /opt/conda/lib/python3.9/site-packages (from requests>=2.19.0->pooch>=1.5->mne) (2.0.12)\n",
      "Requirement already satisfied: urllib3<1.27,>=1.21.1 in /opt/conda/lib/python3.9/site-packages (from requests>=2.19.0->pooch>=1.5->mne) (1.26.9)\n",
      "Requirement already satisfied: idna<4,>=2.5 in /opt/conda/lib/python3.9/site-packages (from requests>=2.19.0->pooch>=1.5->mne) (3.3)\n",
      "Installing collected packages: appdirs, pooch, mne\n",
      "Successfully installed appdirs-1.4.4 mne-1.0.2 pooch-1.6.0\n",
      "Collecting braindecode\n",
      "  Downloading Braindecode-0.6-py3-none-any.whl (177 kB)\n",
      "\u001b[2K     \u001b[90m━━━━━━━━━━━━━━━━━━━━━━━━━━━━━━━━━━━━━━━\u001b[0m \u001b[32m177.3/177.3 KB\u001b[0m \u001b[31m3.1 MB/s\u001b[0m eta \u001b[36m0:00:00\u001b[0m00:01\u001b[0m\n",
      "\u001b[?25hRequirement already satisfied: pandas in /opt/conda/lib/python3.9/site-packages (from braindecode) (1.4.2)\n",
      "Requirement already satisfied: matplotlib in /opt/conda/lib/python3.9/site-packages (from braindecode) (3.5.1)\n",
      "Collecting skorch\n",
      "  Downloading skorch-0.11.0-py3-none-any.whl (155 kB)\n",
      "\u001b[2K     \u001b[90m━━━━━━━━━━━━━━━━━━━━━━━━━━━━━━━━━━━━━━━\u001b[0m \u001b[32m155.1/155.1 KB\u001b[0m \u001b[31m2.3 MB/s\u001b[0m eta \u001b[36m0:00:00\u001b[0m00:01\u001b[0m\n",
      "\u001b[?25hCollecting h5py\n",
      "  Downloading h5py-3.6.0-cp39-cp39-manylinux_2_12_x86_64.manylinux2010_x86_64.whl (4.5 MB)\n",
      "\u001b[2K     \u001b[90m━━━━━━━━━━━━━━━━━━━━━━━━━━━━━━━━━━━━━━━━\u001b[0m \u001b[32m4.5/4.5 MB\u001b[0m \u001b[31m37.6 MB/s\u001b[0m eta \u001b[36m0:00:00\u001b[0m00:01\u001b[0m00:01\u001b[0m\n",
      "\u001b[?25hRequirement already satisfied: mne in /opt/conda/lib/python3.9/site-packages (from braindecode) (1.0.2)\n",
      "Requirement already satisfied: numpy in /opt/conda/lib/python3.9/site-packages (from braindecode) (1.22.3)\n",
      "Requirement already satisfied: scipy in /opt/conda/lib/python3.9/site-packages (from braindecode) (1.8.0)\n",
      "Requirement already satisfied: kiwisolver>=1.0.1 in /opt/conda/lib/python3.9/site-packages (from matplotlib->braindecode) (1.4.2)\n",
      "Requirement already satisfied: fonttools>=4.22.0 in /opt/conda/lib/python3.9/site-packages (from matplotlib->braindecode) (4.31.2)\n",
      "Requirement already satisfied: cycler>=0.10 in /opt/conda/lib/python3.9/site-packages (from matplotlib->braindecode) (0.11.0)\n",
      "Requirement already satisfied: python-dateutil>=2.7 in /opt/conda/lib/python3.9/site-packages (from matplotlib->braindecode) (2.8.2)\n",
      "Requirement already satisfied: packaging>=20.0 in /opt/conda/lib/python3.9/site-packages (from matplotlib->braindecode) (21.3)\n",
      "Requirement already satisfied: pillow>=6.2.0 in /opt/conda/lib/python3.9/site-packages (from matplotlib->braindecode) (9.0.1)\n",
      "Requirement already satisfied: pyparsing>=2.2.1 in /opt/conda/lib/python3.9/site-packages (from matplotlib->braindecode) (3.0.7)\n",
      "Requirement already satisfied: jinja2 in /opt/conda/lib/python3.9/site-packages (from mne->braindecode) (3.0.3)\n",
      "Requirement already satisfied: pooch>=1.5 in /opt/conda/lib/python3.9/site-packages (from mne->braindecode) (1.6.0)\n",
      "Requirement already satisfied: tqdm in /opt/conda/lib/python3.9/site-packages (from mne->braindecode) (4.63.1)\n",
      "Requirement already satisfied: decorator in /opt/conda/lib/python3.9/site-packages (from mne->braindecode) (5.1.1)\n",
      "Requirement already satisfied: pytz>=2020.1 in /opt/conda/lib/python3.9/site-packages (from pandas->braindecode) (2022.1)\n",
      "Collecting scikit-learn>=0.19.1\n",
      "  Downloading scikit_learn-1.0.2-cp39-cp39-manylinux_2_17_x86_64.manylinux2014_x86_64.whl (26.4 MB)\n",
      "\u001b[2K     \u001b[90m━━━━━━━━━━━━━━━━━━━━━━━━━━━━━━━━━━━━━━━━\u001b[0m \u001b[32m26.4/26.4 MB\u001b[0m \u001b[31m42.9 MB/s\u001b[0m eta \u001b[36m0:00:00\u001b[0m00:01\u001b[0m00:01\u001b[0m\n",
      "\u001b[?25hCollecting tabulate>=0.7.7\n",
      "  Downloading tabulate-0.8.9-py3-none-any.whl (25 kB)\n",
      "Requirement already satisfied: appdirs>=1.3.0 in /opt/conda/lib/python3.9/site-packages (from pooch>=1.5->mne->braindecode) (1.4.4)\n",
      "Requirement already satisfied: requests>=2.19.0 in /opt/conda/lib/python3.9/site-packages (from pooch>=1.5->mne->braindecode) (2.27.1)\n",
      "Requirement already satisfied: six>=1.5 in /opt/conda/lib/python3.9/site-packages (from python-dateutil>=2.7->matplotlib->braindecode) (1.16.0)\n",
      "Collecting joblib>=0.11\n",
      "  Downloading joblib-1.1.0-py2.py3-none-any.whl (306 kB)\n",
      "\u001b[2K     \u001b[90m━━━━━━━━━━━━━━━━━━━━━━━━━━━━━━━━━━━━━━━\u001b[0m \u001b[32m307.0/307.0 KB\u001b[0m \u001b[31m4.8 MB/s\u001b[0m eta \u001b[36m0:00:00\u001b[0ma \u001b[36m0:00:01\u001b[0m\n",
      "\u001b[?25hCollecting threadpoolctl>=2.0.0\n",
      "  Downloading threadpoolctl-3.1.0-py3-none-any.whl (14 kB)\n",
      "Requirement already satisfied: MarkupSafe>=2.0 in /opt/conda/lib/python3.9/site-packages (from jinja2->mne->braindecode) (2.1.1)\n",
      "Requirement already satisfied: idna<4,>=2.5 in /opt/conda/lib/python3.9/site-packages (from requests>=2.19.0->pooch>=1.5->mne->braindecode) (3.3)\n",
      "Requirement already satisfied: certifi>=2017.4.17 in /opt/conda/lib/python3.9/site-packages (from requests>=2.19.0->pooch>=1.5->mne->braindecode) (2021.10.8)\n",
      "Requirement already satisfied: charset-normalizer~=2.0.0 in /opt/conda/lib/python3.9/site-packages (from requests>=2.19.0->pooch>=1.5->mne->braindecode) (2.0.12)\n",
      "Requirement already satisfied: urllib3<1.27,>=1.21.1 in /opt/conda/lib/python3.9/site-packages (from requests>=2.19.0->pooch>=1.5->mne->braindecode) (1.26.9)\n",
      "Installing collected packages: tabulate, threadpoolctl, joblib, h5py, scikit-learn, skorch, braindecode\n",
      "Successfully installed braindecode-0.6 h5py-3.6.0 joblib-1.1.0 scikit-learn-1.0.2 skorch-0.11.0 tabulate-0.8.9 threadpoolctl-3.1.0\n"
     ]
    }
   ],
   "source": [
    "!pip install import_ipynb\n",
    "!pip install seaborn\n",
    "!pip install torch\n",
    "!pip install mne\n",
    "!pip install braindecode"
   ]
  },
  {
   "cell_type": "code",
   "execution_count": 51,
   "id": "c03be6de-bd2e-4c2a-aef6-e66be6a460a0",
   "metadata": {
    "execution": {
     "iopub.execute_input": "2022-05-03T17:24:21.848531Z",
     "iopub.status.busy": "2022-05-03T17:24:21.847942Z",
     "iopub.status.idle": "2022-05-03T17:24:21.859460Z",
     "shell.execute_reply": "2022-05-03T17:24:21.858617Z",
     "shell.execute_reply.started": "2022-05-03T17:24:21.848466Z"
    },
    "tags": []
   },
   "outputs": [],
   "source": [
    "import import_ipynb\n",
    "import numpy as np\n",
    "from PreProcessing_v1 import import_tuh_abnormal\n",
    "from DataTransform import data_transform, train_valid_test_split, get_parameters_for_model\n",
    "# from TrainingValidationTesting import *\n",
    "import torch\n",
    "from braindecode.preprocessing import preprocess, Preprocessor, scale as multiply\n",
    "from braindecode.util import set_random_seeds\n",
    "from braindecode.models import ShallowFBCSPNet, Deep4Net\n",
    "from torch import optim\n",
    "from datetime import datetime\n",
    "from sklearn.metrics import confusion_matrix, classification_report, roc_auc_score\n",
    "import seaborn as sns"
   ]
  },
  {
   "cell_type": "markdown",
   "id": "dd28575d-6a8e-4546-a8b7-6c9d88b12aee",
   "metadata": {
    "tags": []
   },
   "source": [
    "# Importing TUH Abnormal dataset"
   ]
  },
  {
   "cell_type": "code",
   "execution_count": 94,
   "id": "9e92edbd-4697-46b4-afb3-8685ac89cedd",
   "metadata": {
    "execution": {
     "iopub.execute_input": "2022-05-03T18:29:03.867443Z",
     "iopub.status.busy": "2022-05-03T18:29:03.866673Z",
     "iopub.status.idle": "2022-05-03T18:29:03.875996Z",
     "shell.execute_reply": "2022-05-03T18:29:03.874644Z",
     "shell.execute_reply.started": "2022-05-03T18:29:03.867376Z"
    },
    "tags": []
   },
   "outputs": [],
   "source": [
    "TUH_PATH = 'TUH EEG Abnormal dataset/Abnormal/' # specify the path to the TUH Abnormal dataset\n",
    "N_JOBS = 40  # specify the number of jobs for loading and windowing\n",
    "\n",
    "# parameters to be defined for the preprocessing pipeline\n",
    "TMIN = 1 * 60\n",
    "TMAX = 5 * 60 \n",
    "SFREQ = 100\n",
    "CLIPPING = 800\n"
   ]
  },
  {
   "cell_type": "code",
   "execution_count": 95,
   "id": "236d2486-21b9-4668-a40a-4b8eb81e166d",
   "metadata": {
    "execution": {
     "iopub.execute_input": "2022-05-03T18:29:04.477208Z",
     "iopub.status.busy": "2022-05-03T18:29:04.476646Z",
     "iopub.status.idle": "2022-05-03T18:29:18.369917Z",
     "shell.execute_reply": "2022-05-03T18:29:18.369161Z",
     "shell.execute_reply.started": "2022-05-03T18:29:04.477146Z"
    },
    "tags": []
   },
   "outputs": [],
   "source": [
    "tuh_abnormal = import_tuh_abnormal(TUH_PATH, N_JOBS)"
   ]
  },
  {
   "cell_type": "markdown",
   "id": "5938782f-4baf-448f-ba79-eaaea1e1fd5f",
   "metadata": {
    "tags": []
   },
   "source": [
    "# Preprocessing"
   ]
  },
  {
   "cell_type": "code",
   "execution_count": 96,
   "id": "de129635-d2ec-4a49-9adb-ba70fd6ae7df",
   "metadata": {
    "execution": {
     "iopub.execute_input": "2022-05-03T18:29:18.384226Z",
     "iopub.status.busy": "2022-05-03T18:29:18.384104Z",
     "iopub.status.idle": "2022-05-03T18:29:18.411813Z",
     "shell.execute_reply": "2022-05-03T18:29:18.410943Z",
     "shell.execute_reply.started": "2022-05-03T18:29:18.384211Z"
    },
    "tags": []
   },
   "outputs": [],
   "source": [
    "def create_ch_mapping():\n",
    "    short_ch_names = sorted([\n",
    "        'A1', 'A2',\n",
    "        'FP1', 'FP2', 'F3', 'F4', 'C3', 'C4', 'P3', 'P4', 'O1', 'O2',\n",
    "        'F7', 'F8', 'T3', 'T4', 'T5', 'T6', 'FZ', 'CZ', 'PZ'])\n",
    "    ar_ch_names = sorted([\n",
    "        'EEG A1-REF', 'EEG A2-REF',\n",
    "        'EEG FP1-REF', 'EEG FP2-REF', 'EEG F3-REF', 'EEG F4-REF', 'EEG C3-REF',\n",
    "        'EEG C4-REF', 'EEG P3-REF', 'EEG P4-REF', 'EEG O1-REF', 'EEG O2-REF',\n",
    "        'EEG F7-REF', 'EEG F8-REF', 'EEG T3-REF', 'EEG T4-REF', 'EEG T5-REF',\n",
    "        'EEG T6-REF', 'EEG FZ-REF', 'EEG CZ-REF', 'EEG PZ-REF'])\n",
    "    le_ch_names = sorted([\n",
    "        'EEG A1-LE', 'EEG A2-LE',\n",
    "        'EEG FP1-LE', 'EEG FP2-LE', 'EEG F3-LE', 'EEG F4-LE', 'EEG C3-LE',\n",
    "        'EEG C4-LE', 'EEG P3-LE', 'EEG P4-LE', 'EEG O1-LE', 'EEG O2-LE',\n",
    "        'EEG F7-LE', 'EEG F8-LE', 'EEG T3-LE', 'EEG T4-LE', 'EEG T5-LE',\n",
    "        'EEG T6-LE', 'EEG FZ-LE', 'EEG CZ-LE', 'EEG PZ-LE'])\n",
    "    assert len(short_ch_names) == len(ar_ch_names) == len(le_ch_names)\n",
    "    ar_ch_mapping = {ch_name: short_ch_name for ch_name, short_ch_name in zip(\n",
    "        ar_ch_names, short_ch_names)}\n",
    "    le_ch_mapping = {ch_name: short_ch_name for ch_name, short_ch_name in zip(\n",
    "        le_ch_names, short_ch_names)}\n",
    "    ch_mapping = {'ar': ar_ch_mapping, 'le': le_ch_mapping}    \n",
    "    return short_ch_names, ch_mapping\n",
    "\n",
    "\n",
    "def select_by_channels(ds, short_ch_names, ch_mapping):\n",
    "    split_ids = []\n",
    "    for i, d in enumerate(ds.datasets):\n",
    "        ref = 'ar' if d.raw.ch_names[0].endswith('-REF') else 'le'\n",
    "        # these are the channels we are looking for\n",
    "        seta = set(ch_mapping[ref].keys())\n",
    "        # these are the channels of the recoding\n",
    "        setb = set(d.raw.ch_names)\n",
    "        # if recording contains all channels we are looking for, include it\n",
    "        if seta.issubset(setb):\n",
    "            split_ids.append(i)\n",
    "    return ds.split(split_ids)['0']\n",
    "\n",
    "\n",
    "def custom_crop(raw, tmin=0.0, tmax=None, include_tmax=True):\n",
    "    # crop recordings to tmin – tmax. can be incomplete if recording\n",
    "    # has lower duration than tmax\n",
    "    # by default mne fails if tmax is bigger than duration\n",
    "    tmax = min((raw.n_times - 1) / raw.info['sfreq'], tmax)\n",
    "    raw.crop(tmin=tmin, tmax=tmax, include_tmax=include_tmax)\n",
    "    \n",
    "    \n",
    "def custom_rename_channels(raw, mapping):\n",
    "    # rename channels which are dependent on referencing:\n",
    "    # le: EEG 01-LE, ar: EEG 01-REF\n",
    "    # mne fails if the mapping contains channels as keys that are not present\n",
    "    # in the raw\n",
    "    reference = raw.ch_names[0].split('-')[-1].lower()\n",
    "    assert reference in ['le', 'ref'], 'unexpected referencing'\n",
    "    reference = 'le' if reference == 'le' else 'ar'\n",
    "    raw.rename_channels(mapping[reference])\n",
    "    \n",
    "short_ch_names, ch_mapping = create_ch_mapping()\n",
    "\n",
    "preprocessors = [\n",
    "        Preprocessor(custom_crop, tmin=TMIN, tmax=TMAX, include_tmax=True,\n",
    "                     apply_on_array=False),\n",
    "        Preprocessor('set_eeg_reference', ref_channels='average', ch_type='eeg'), # mne Raw class function\n",
    "        Preprocessor(custom_rename_channels, mapping=ch_mapping, # rename channels to short channel names\n",
    "                     apply_on_array=False), #\n",
    "        Preprocessor('pick_channels', ch_names=short_ch_names, ordered=True), # mne Raw class function\n",
    "        Preprocessor(multiply, factor=1e6, apply_on_array=True), # scaling signals to microvolt\n",
    "        Preprocessor(np.clip, a_min=-CLIPPING, a_max=CLIPPING, apply_on_array=True), # clip outlier values to +/- 800 micro volts\n",
    "        Preprocessor('resample', sfreq=SFREQ), # mne Raw class function\n",
    "    ]"
   ]
  },
  {
   "cell_type": "code",
   "execution_count": null,
   "id": "199aa969-7c3e-44b0-8881-f4fe45cf9f72",
   "metadata": {
    "execution": {
     "iopub.execute_input": "2022-05-03T18:29:18.412976Z",
     "iopub.status.busy": "2022-05-03T18:29:18.412840Z"
    },
    "tags": []
   },
   "outputs": [],
   "source": [
    "tuh_preproc = preprocess(\n",
    "        concat_ds=tuh_abnormal,\n",
    "        preprocessors=preprocessors,\n",
    "        n_jobs=N_JOBS,\n",
    "        save_dir=None\n",
    "    )"
   ]
  },
  {
   "cell_type": "markdown",
   "id": "07c6a2d1-42d0-47a0-b775-57084732e9ca",
   "metadata": {
    "tags": []
   },
   "source": [
    "# Data Transform"
   ]
  },
  {
   "cell_type": "code",
   "execution_count": 12,
   "id": "f76cbb68-5f60-4caf-b73f-50fa259a7f36",
   "metadata": {
    "execution": {
     "iopub.execute_input": "2022-05-03T16:53:29.900853Z",
     "iopub.status.busy": "2022-05-03T16:53:29.900264Z",
     "iopub.status.idle": "2022-05-03T16:53:29.910232Z",
     "shell.execute_reply": "2022-05-03T16:53:29.909048Z",
     "shell.execute_reply.started": "2022-05-03T16:53:29.900789Z"
    },
    "tags": []
   },
   "outputs": [],
   "source": [
    "import matplotlib.pyplot as plt\n",
    "from braindecode.datasets.tuh import TUHAbnormal, TUH\n",
    "from braindecode.models import get_output_shape\n",
    "from braindecode.preprocessing import create_fixed_length_windows\n",
    "from torch.utils.data import DataLoader\n",
    "from DataTransform import data_transform, train_valid_test_split, get_parameters_for_model"
   ]
  },
  {
   "cell_type": "code",
   "execution_count": null,
   "id": "cb444850-6960-4b14-8b14-e0d1eddefef5",
   "metadata": {
    "tags": []
   },
   "outputs": [],
   "source": [
    "tuh_train, tuh_val, tuh_test = train_valid_test_split(tuh_preproc, train_size=0.9)"
   ]
  },
  {
   "cell_type": "code",
   "execution_count": null,
   "id": "97fe6f7c-7ff2-4b1c-8aad-2902c6afdf1d",
   "metadata": {
    "tags": []
   },
   "outputs": [],
   "source": [
    "len(tuh_train.datasets)"
   ]
  },
  {
   "cell_type": "code",
   "execution_count": null,
   "id": "dc8af698-3450-4958-9f0e-51156388142c",
   "metadata": {
    "tags": []
   },
   "outputs": [],
   "source": [
    "# Extract number of chans and time steps from dataset\n",
    "in_chans, input_size_samples = get_parameters_for_model(tuh_train)\n",
    "\n",
    "print(in_chans, input_size_samples)"
   ]
  },
  {
   "cell_type": "code",
   "execution_count": null,
   "id": "8cec7182-09ea-442d-82c7-edca1d130df7",
   "metadata": {
    "tags": []
   },
   "outputs": [],
   "source": [
    "TRAIN_SIZE=0.9\n",
    "INPUT_WIN_SAMPLES = 6000\n",
    "BATCH_SIZE=64\n",
    "\n",
    "cuda = torch.cuda.is_available()  # check if GPU is available, if True chooses to use it\n",
    "device = 'cuda' if cuda else 'cpu'\n",
    "if cuda:\n",
    "    torch.backends.cudnn.benchmark = True\n",
    "# Set random seed to be able to roughly reproduce results\n",
    "# Note that with cudnn benchmark set to True, GPU indeterminism\n",
    "# may still make results substantially different between runs.\n",
    "# To obtain more consistent results at the cost of increased computation time,\n",
    "# you can set `cudnn_benchmark=False` in `set_random_seeds`\n",
    "# or remove `torch.backends.cudnn.benchmark = True`\n",
    "seed = 20200220\n",
    "set_random_seeds(seed=seed, cuda=cuda)\n",
    "\n",
    "n_classes = 2\n",
    "\n",
    "\n",
    "model = Deep4Net(\n",
    "    in_chans,\n",
    "    n_classes,\n",
    "    input_window_samples=INPUT_WIN_SAMPLES,\n",
    "    final_conv_length=1,\n",
    ")\n",
    "\n",
    "\n",
    "# Send model to GPU\n",
    "if cuda:\n",
    "    model.to(device)\n",
    "    \n",
    "\n",
    "train_loader, val_loader, test_loader = data_transform(tuh_train, tuh_val, tuh_test, model, train_size=TRAIN_SIZE, batch_size=BATCH_SIZE, input_window_samples=INPUT_WIN_SAMPLES, in_chans = in_chans)"
   ]
  },
  {
   "cell_type": "code",
   "execution_count": null,
   "id": "65fe189b-55e1-4c06-bf8e-8a37ea0f6e27",
   "metadata": {
    "tags": []
   },
   "outputs": [],
   "source": [
    "len(train_loader)"
   ]
  },
  {
   "cell_type": "markdown",
   "id": "bfba6a78-c952-411b-8c37-0f8aebbf81b5",
   "metadata": {},
   "source": [
    "# Training and testing"
   ]
  },
  {
   "cell_type": "code",
   "execution_count": 26,
   "id": "f04fb1c6-0a7f-4557-b9c8-e83a9df50369",
   "metadata": {
    "execution": {
     "iopub.execute_input": "2022-05-03T16:59:06.344284Z",
     "iopub.status.busy": "2022-05-03T16:59:06.343568Z",
     "iopub.status.idle": "2022-05-03T16:59:06.367020Z",
     "shell.execute_reply": "2022-05-03T16:59:06.366413Z",
     "shell.execute_reply.started": "2022-05-03T16:59:06.344216Z"
    },
    "tags": []
   },
   "outputs": [
    {
     "name": "stdout",
     "output_type": "stream",
     "text": [
      "importing Jupyter notebook from TrainingValidationTesting.ipynb\n"
     ]
    }
   ],
   "source": [
    "from TrainingValidationTesting import train_model, validate_model, test_model"
   ]
  },
  {
   "cell_type": "code",
   "execution_count": 82,
   "id": "b1a6d83f-ba21-4a62-a531-4bdae2f7c1c3",
   "metadata": {
    "execution": {
     "iopub.execute_input": "2022-05-03T17:56:39.065806Z",
     "iopub.status.busy": "2022-05-03T17:56:39.065219Z",
     "iopub.status.idle": "2022-05-03T17:56:39.076783Z",
     "shell.execute_reply": "2022-05-03T17:56:39.075860Z",
     "shell.execute_reply.started": "2022-05-03T17:56:39.065742Z"
    },
    "tags": []
   },
   "outputs": [],
   "source": [
    "# hyperparameters for training the model\n",
    "lr =  0.01\n",
    "optimizer = optim.Adam(params=model.parameters(), lr=lr)\n",
    "criterion = torch.nn.NLLLoss()\n",
    "batch_size = 64\n",
    "n_epochs = 35  \n",
    "patience = 10\n",
    "\n",
    "# Using multiple GPUs\n",
    "model = torch.nn.DataParallel(model)"
   ]
  },
  {
   "cell_type": "code",
   "execution_count": 83,
   "id": "b05d1fc4-c94e-4616-b053-e1225c754f34",
   "metadata": {
    "execution": {
     "iopub.execute_input": "2022-05-03T17:56:43.722311Z",
     "iopub.status.busy": "2022-05-03T17:56:43.721736Z",
     "iopub.status.idle": "2022-05-03T18:22:54.864586Z",
     "shell.execute_reply": "2022-05-03T18:22:54.864019Z",
     "shell.execute_reply.started": "2022-05-03T17:56:43.722247Z"
    },
    "tags": []
   },
   "outputs": [
    {
     "name": "stdout",
     "output_type": "stream",
     "text": [
      "Time: 05/03/2022, 19:57:01. . [1/35, 169/3361] train_loss: 0.810026, train_acc: 0.613\n",
      "Time: 05/03/2022, 19:57:15. . [1/35, 338/3361] train_loss: 0.721747, train_acc: 0.644\n",
      "Time: 05/03/2022, 19:57:29. . [1/35, 507/3361] train_loss: 0.68607, train_acc: 0.657\n",
      "Time: 05/03/2022, 19:57:42. . [1/35, 676/3361] train_loss: 0.668554, train_acc: 0.666\n",
      "Time: 05/03/2022, 19:57:56. . [1/35, 845/3361] train_loss: 0.660074, train_acc: 0.671\n",
      "Time: 05/03/2022, 19:58:09. . [1/35, 1014/3361] train_loss: 0.652637, train_acc: 0.675\n",
      "Time: 05/03/2022, 19:58:23. . [1/35, 1183/3361] train_loss: 0.647273, train_acc: 0.678\n",
      "Time: 05/03/2022, 19:58:38. . [1/35, 1352/3361] train_loss: 0.643488, train_acc: 0.68\n",
      "Time: 05/03/2022, 19:58:52. . [1/35, 1521/3361] train_loss: 0.639924, train_acc: 0.682\n",
      "Time: 05/03/2022, 19:59:06. . [1/35, 1690/3361] train_loss: 0.637025, train_acc: 0.684\n",
      "Time: 05/03/2022, 19:59:20. . [1/35, 1859/3361] train_loss: 0.634777, train_acc: 0.685\n",
      "Time: 05/03/2022, 19:59:36. . [1/35, 2028/3361] train_loss: 0.632829, train_acc: 0.687\n",
      "Time: 05/03/2022, 19:59:50. . [1/35, 2197/3361] train_loss: 0.630981, train_acc: 0.688\n",
      "Time: 05/03/2022, 20:00:05. . [1/35, 2366/3361] train_loss: 0.629271, train_acc: 0.689\n",
      "Time: 05/03/2022, 20:00:20. . [1/35, 2535/3361] train_loss: 0.627813, train_acc: 0.69\n",
      "Time: 05/03/2022, 20:00:35. . [1/35, 2704/3361] train_loss: 0.626657, train_acc: 0.69\n",
      "Time: 05/03/2022, 20:00:49. . [1/35, 2873/3361] train_loss: 0.625277, train_acc: 0.691\n",
      "Time: 05/03/2022, 20:01:03. . [1/35, 3042/3361] train_loss: 0.624474, train_acc: 0.692\n",
      "Time: 05/03/2022, 20:01:18. . [1/35, 3211/3361] train_loss: 0.623709, train_acc: 0.692\n",
      "Time: 05/03/2022, 20:01:32. . [1/35, 3361/3361] train_loss: 0.623028, train_acc: 0.693\n",
      "The Current Validation Loss: 0.6411915411181907\n",
      "Trigger Times: 0\n",
      "Time: 05/03/2022, 20:02:16. . [2/35, 169/3361] train_loss: 0.607204, train_acc: 0.71\n",
      "Time: 05/03/2022, 20:02:31. . [2/35, 338/3361] train_loss: 0.606577, train_acc: 0.709\n",
      "Time: 05/03/2022, 20:02:45. . [2/35, 507/3361] train_loss: 0.605334, train_acc: 0.708\n",
      "Time: 05/03/2022, 20:02:59. . [2/35, 676/3361] train_loss: 0.604933, train_acc: 0.708\n",
      "Time: 05/03/2022, 20:03:12. . [2/35, 845/3361] train_loss: 0.605138, train_acc: 0.708\n",
      "Time: 05/03/2022, 20:03:26. . [2/35, 1014/3361] train_loss: 0.602907, train_acc: 0.708\n",
      "Time: 05/03/2022, 20:03:40. . [2/35, 1183/3361] train_loss: 0.597912, train_acc: 0.708\n",
      "Time: 05/03/2022, 20:03:54. . [2/35, 1352/3361] train_loss: 0.589374, train_acc: 0.708\n",
      "Time: 05/03/2022, 20:04:09. . [2/35, 1521/3361] train_loss: 0.582483, train_acc: 0.709\n",
      "Time: 05/03/2022, 20:04:23. . [2/35, 1690/3361] train_loss: 0.576209, train_acc: 0.709\n",
      "Time: 05/03/2022, 20:04:38. . [2/35, 1859/3361] train_loss: 0.568593, train_acc: 0.71\n",
      "Time: 05/03/2022, 20:04:53. . [2/35, 2028/3361] train_loss: 0.561078, train_acc: 0.712\n",
      "Time: 05/03/2022, 20:05:08. . [2/35, 2197/3361] train_loss: 0.55462, train_acc: 0.713\n",
      "Time: 05/03/2022, 20:05:22. . [2/35, 2366/3361] train_loss: 0.54892, train_acc: 0.714\n",
      "Time: 05/03/2022, 20:05:37. . [2/35, 2535/3361] train_loss: 0.544543, train_acc: 0.716\n",
      "Time: 05/03/2022, 20:05:52. . [2/35, 2704/3361] train_loss: 0.540465, train_acc: 0.717\n",
      "Time: 05/03/2022, 20:06:06. . [2/35, 2873/3361] train_loss: 0.536673, train_acc: 0.719\n",
      "Time: 05/03/2022, 20:06:20. . [2/35, 3042/3361] train_loss: 0.532842, train_acc: 0.72\n",
      "Time: 05/03/2022, 20:06:34. . [2/35, 3211/3361] train_loss: 0.528846, train_acc: 0.721\n",
      "Time: 05/03/2022, 20:06:45. . [2/35, 3361/3361] train_loss: 0.525886, train_acc: 0.722\n",
      "The Current Validation Loss: 0.5489648643167729\n",
      "Trigger Times: 0\n",
      "Time: 05/03/2022, 20:07:24. . [3/35, 169/3361] train_loss: 0.462288, train_acc: 0.79\n",
      "Time: 05/03/2022, 20:07:38. . [3/35, 338/3361] train_loss: 0.462431, train_acc: 0.789\n",
      "Time: 05/03/2022, 20:07:52. . [3/35, 507/3361] train_loss: 0.459845, train_acc: 0.789\n",
      "Time: 05/03/2022, 20:08:07. . [3/35, 676/3361] train_loss: 0.457806, train_acc: 0.789\n",
      "Time: 05/03/2022, 20:08:23. . [3/35, 845/3361] train_loss: 0.458092, train_acc: 0.79\n",
      "Time: 05/03/2022, 20:08:37. . [3/35, 1014/3361] train_loss: 0.457608, train_acc: 0.79\n",
      "Time: 05/03/2022, 20:08:51. . [3/35, 1183/3361] train_loss: 0.458235, train_acc: 0.79\n",
      "Time: 05/03/2022, 20:09:06. . [3/35, 1352/3361] train_loss: 0.457038, train_acc: 0.79\n",
      "Time: 05/03/2022, 20:09:20. . [3/35, 1521/3361] train_loss: 0.456244, train_acc: 0.79\n",
      "Time: 05/03/2022, 20:09:34. . [3/35, 1690/3361] train_loss: 0.457102, train_acc: 0.791\n",
      "Time: 05/03/2022, 20:09:49. . [3/35, 1859/3361] train_loss: 0.458385, train_acc: 0.791\n",
      "Time: 05/03/2022, 20:10:03. . [3/35, 2028/3361] train_loss: 0.458728, train_acc: 0.791\n",
      "Time: 05/03/2022, 20:10:17. . [3/35, 2197/3361] train_loss: 0.458585, train_acc: 0.791\n",
      "Time: 05/03/2022, 20:10:33. . [3/35, 2366/3361] train_loss: 0.458277, train_acc: 0.791\n",
      "Time: 05/03/2022, 20:10:48. . [3/35, 2535/3361] train_loss: 0.457341, train_acc: 0.791\n",
      "Time: 05/03/2022, 20:11:03. . [3/35, 2704/3361] train_loss: 0.457033, train_acc: 0.791\n",
      "Time: 05/03/2022, 20:11:18. . [3/35, 2873/3361] train_loss: 0.456242, train_acc: 0.791\n",
      "Time: 05/03/2022, 20:11:33. . [3/35, 3042/3361] train_loss: 0.455666, train_acc: 0.791\n",
      "Time: 05/03/2022, 20:11:47. . [3/35, 3211/3361] train_loss: 0.454854, train_acc: 0.791\n",
      "Time: 05/03/2022, 20:11:59. . [3/35, 3361/3361] train_loss: 0.454196, train_acc: 0.791\n",
      "The Current Validation Loss: 0.5905058234930038\n",
      "Trigger Times: 1\n",
      "Time: 05/03/2022, 20:12:40. . [4/35, 169/3361] train_loss: 0.430877, train_acc: 0.812\n",
      "Time: 05/03/2022, 20:12:54. . [4/35, 338/3361] train_loss: 0.431922, train_acc: 0.809\n",
      "Time: 05/03/2022, 20:13:09. . [4/35, 507/3361] train_loss: 0.435396, train_acc: 0.807\n",
      "Time: 05/03/2022, 20:13:23. . [4/35, 676/3361] train_loss: 0.435296, train_acc: 0.806\n",
      "Time: 05/03/2022, 20:13:37. . [4/35, 845/3361] train_loss: 0.434585, train_acc: 0.805\n",
      "Time: 05/03/2022, 20:13:51. . [4/35, 1014/3361] train_loss: 0.432712, train_acc: 0.805\n",
      "Time: 05/03/2022, 20:14:07. . [4/35, 1183/3361] train_loss: 0.432401, train_acc: 0.805\n",
      "Time: 05/03/2022, 20:14:21. . [4/35, 1352/3361] train_loss: 0.430932, train_acc: 0.805\n",
      "Time: 05/03/2022, 20:14:37. . [4/35, 1521/3361] train_loss: 0.430496, train_acc: 0.805\n",
      "Time: 05/03/2022, 20:14:51. . [4/35, 1690/3361] train_loss: 0.430053, train_acc: 0.805\n",
      "Time: 05/03/2022, 20:15:06. . [4/35, 1859/3361] train_loss: 0.429149, train_acc: 0.805\n",
      "Time: 05/03/2022, 20:15:21. . [4/35, 2028/3361] train_loss: 0.427659, train_acc: 0.805\n",
      "Time: 05/03/2022, 20:15:36. . [4/35, 2197/3361] train_loss: 0.426452, train_acc: 0.805\n",
      "Time: 05/03/2022, 20:15:51. . [4/35, 2366/3361] train_loss: 0.425272, train_acc: 0.805\n",
      "Time: 05/03/2022, 20:16:06. . [4/35, 2535/3361] train_loss: 0.424187, train_acc: 0.805\n",
      "Time: 05/03/2022, 20:16:19. . [4/35, 2704/3361] train_loss: 0.422708, train_acc: 0.805\n",
      "Time: 05/03/2022, 20:16:33. . [4/35, 2873/3361] train_loss: 0.42136, train_acc: 0.805\n",
      "Time: 05/03/2022, 20:16:47. . [4/35, 3042/3361] train_loss: 0.420487, train_acc: 0.806\n",
      "Time: 05/03/2022, 20:17:01. . [4/35, 3211/3361] train_loss: 0.419689, train_acc: 0.806\n",
      "Time: 05/03/2022, 20:17:13. . [4/35, 3361/3361] train_loss: 0.41845, train_acc: 0.806\n",
      "The Current Validation Loss: 0.6406407043971913\n",
      "Trigger Times: 2\n",
      "Time: 05/03/2022, 20:17:54. . [5/35, 169/3361] train_loss: 0.388883, train_acc: 0.822\n",
      "Time: 05/03/2022, 20:18:10. . [5/35, 338/3361] train_loss: 0.388482, train_acc: 0.824\n",
      "Time: 05/03/2022, 20:18:24. . [5/35, 507/3361] train_loss: 0.389101, train_acc: 0.824\n",
      "Time: 05/03/2022, 20:18:39. . [5/35, 676/3361] train_loss: 0.385732, train_acc: 0.825\n",
      "Time: 05/03/2022, 20:18:53. . [5/35, 845/3361] train_loss: 0.383693, train_acc: 0.825\n",
      "Time: 05/03/2022, 20:19:08. . [5/35, 1014/3361] train_loss: 0.380557, train_acc: 0.826\n",
      "Time: 05/03/2022, 20:19:22. . [5/35, 1183/3361] train_loss: 0.377826, train_acc: 0.827\n",
      "Time: 05/03/2022, 20:19:37. . [5/35, 1352/3361] train_loss: 0.375738, train_acc: 0.827\n",
      "Time: 05/03/2022, 20:19:52. . [5/35, 1521/3361] train_loss: 0.373404, train_acc: 0.828\n",
      "Time: 05/03/2022, 20:20:06. . [5/35, 1690/3361] train_loss: 0.372376, train_acc: 0.829\n",
      "Time: 05/03/2022, 20:20:20. . [5/35, 1859/3361] train_loss: 0.370949, train_acc: 0.829\n",
      "Time: 05/03/2022, 20:20:35. . [5/35, 2028/3361] train_loss: 0.369486, train_acc: 0.83\n",
      "Time: 05/03/2022, 20:20:50. . [5/35, 2197/3361] train_loss: 0.367689, train_acc: 0.831\n",
      "Time: 05/03/2022, 20:21:06. . [5/35, 2366/3361] train_loss: 0.366089, train_acc: 0.831\n",
      "Time: 05/03/2022, 20:21:20. . [5/35, 2535/3361] train_loss: 0.364093, train_acc: 0.832\n",
      "Time: 05/03/2022, 20:21:34. . [5/35, 2704/3361] train_loss: 0.362847, train_acc: 0.832\n",
      "Time: 05/03/2022, 20:21:48. . [5/35, 2873/3361] train_loss: 0.361422, train_acc: 0.833\n",
      "Time: 05/03/2022, 20:22:02. . [5/35, 3042/3361] train_loss: 0.359393, train_acc: 0.833\n",
      "Time: 05/03/2022, 20:22:16. . [5/35, 3211/3361] train_loss: 0.357787, train_acc: 0.834\n",
      "Time: 05/03/2022, 20:22:28. . [5/35, 3361/3361] train_loss: 0.3564, train_acc: 0.834\n",
      "The Current Validation Loss: 0.7325355782312282\n",
      "Trigger Times: 3\n",
      "Early Stopping!\n",
      "Start the test process.\n"
     ]
    }
   ],
   "source": [
    "\n",
    "trained_model, train_losses, valid_losses = train_model(model, device, criterion, optimizer, train_loader, val_loader, n_epochs, patience)"
   ]
  },
  {
   "cell_type": "code",
   "execution_count": 84,
   "id": "5be4d161-52d3-4a2a-8c86-4a183c03f1c9",
   "metadata": {
    "execution": {
     "iopub.execute_input": "2022-05-03T18:23:06.993644Z",
     "iopub.status.busy": "2022-05-03T18:23:06.992881Z",
     "iopub.status.idle": "2022-05-03T18:23:07.006431Z",
     "shell.execute_reply": "2022-05-03T18:23:07.005384Z",
     "shell.execute_reply.started": "2022-05-03T18:23:06.993576Z"
    },
    "tags": []
   },
   "outputs": [
    {
     "data": {
      "text/plain": [
       "DataParallel(\n",
       "  (module): Deep4Net(\n",
       "    (ensuredims): Ensure4d()\n",
       "    (dimshuffle): Expression(expression=transpose_time_to_spat) \n",
       "    (conv_time): Conv2d(1, 25, kernel_size=(10, 1), stride=(1, 1))\n",
       "    (conv_spat): Conv2d(25, 25, kernel_size=(1, 21), stride=(1, 1), bias=False)\n",
       "    (bnorm): BatchNorm2d(25, eps=1e-05, momentum=0.1, affine=True, track_running_stats=True)\n",
       "    (conv_nonlin): Expression(expression=elu) \n",
       "    (pool): MaxPool2d(kernel_size=(3, 1), stride=(3, 1), padding=0, dilation=1, ceil_mode=False)\n",
       "    (pool_nonlin): Expression(expression=identity) \n",
       "    (drop_2): Dropout(p=0.5, inplace=False)\n",
       "    (conv_2): Conv2d(25, 50, kernel_size=(10, 1), stride=(1, 1), bias=False)\n",
       "    (bnorm_2): BatchNorm2d(50, eps=1e-05, momentum=0.1, affine=True, track_running_stats=True)\n",
       "    (nonlin_2): Expression(expression=elu) \n",
       "    (pool_2): MaxPool2d(kernel_size=(3, 1), stride=(3, 1), padding=0, dilation=1, ceil_mode=False)\n",
       "    (pool_nonlin_2): Expression(expression=identity) \n",
       "    (drop_3): Dropout(p=0.5, inplace=False)\n",
       "    (conv_3): Conv2d(50, 100, kernel_size=(10, 1), stride=(1, 1), bias=False)\n",
       "    (bnorm_3): BatchNorm2d(100, eps=1e-05, momentum=0.1, affine=True, track_running_stats=True)\n",
       "    (nonlin_3): Expression(expression=elu) \n",
       "    (pool_3): MaxPool2d(kernel_size=(3, 1), stride=(3, 1), padding=0, dilation=1, ceil_mode=False)\n",
       "    (pool_nonlin_3): Expression(expression=identity) \n",
       "    (drop_4): Dropout(p=0.5, inplace=False)\n",
       "    (conv_4): Conv2d(100, 200, kernel_size=(10, 1), stride=(1, 1), bias=False)\n",
       "    (bnorm_4): BatchNorm2d(200, eps=1e-05, momentum=0.1, affine=True, track_running_stats=True)\n",
       "    (nonlin_4): Expression(expression=elu) \n",
       "    (pool_4): MaxPool2d(kernel_size=(3, 1), stride=(3, 1), padding=0, dilation=1, ceil_mode=False)\n",
       "    (pool_nonlin_4): Expression(expression=identity) \n",
       "    (conv_classifier): Conv2d(200, 2, kernel_size=(1, 1), stride=(1, 1))\n",
       "    (softmax): LogSoftmax(dim=1)\n",
       "    (squeeze): Expression(expression=squeeze_final_output) \n",
       "  )\n",
       ")"
      ]
     },
     "execution_count": 84,
     "metadata": {},
     "output_type": "execute_result"
    }
   ],
   "source": [
    "trained_model.to(device)"
   ]
  },
  {
   "cell_type": "code",
   "execution_count": 38,
   "id": "8f45b788-00d2-4344-9ef2-dd08c2b04187",
   "metadata": {
    "execution": {
     "iopub.execute_input": "2022-05-03T17:07:56.240635Z",
     "iopub.status.busy": "2022-05-03T17:07:56.239349Z",
     "iopub.status.idle": "2022-05-03T17:07:56.265059Z",
     "shell.execute_reply": "2022-05-03T17:07:56.264447Z",
     "shell.execute_reply.started": "2022-05-03T17:07:56.240543Z"
    }
   },
   "outputs": [
    {
     "name": "stdout",
     "output_type": "stream",
     "text": [
      "importing Jupyter notebook from TrainingValidationTesting_1.ipynb\n"
     ]
    }
   ],
   "source": [
    "from TrainingValidationTesting_1 import test_model"
   ]
  },
  {
   "cell_type": "code",
   "execution_count": 85,
   "id": "9568a779-394c-4e2a-ac1a-2bbcae4efc88",
   "metadata": {
    "execution": {
     "iopub.execute_input": "2022-05-03T18:23:13.413604Z",
     "iopub.status.busy": "2022-05-03T18:23:13.413018Z",
     "iopub.status.idle": "2022-05-03T18:23:39.494724Z",
     "shell.execute_reply": "2022-05-03T18:23:39.493863Z",
     "shell.execute_reply.started": "2022-05-03T18:23:13.413539Z"
    },
    "tags": []
   },
   "outputs": [
    {
     "name": "stdout",
     "output_type": "stream",
     "text": [
      "Accuracy: 0.77\n",
      "Accuracy2: 0.77\n"
     ]
    }
   ],
   "source": [
    "y_true, y_pred = test_model(device, trained_model, test_loader)"
   ]
  },
  {
   "cell_type": "code",
   "execution_count": 86,
   "id": "8d3d745e-8727-433d-80f4-9d2254c42fdc",
   "metadata": {
    "execution": {
     "iopub.execute_input": "2022-05-03T18:24:00.121506Z",
     "iopub.status.busy": "2022-05-03T18:24:00.120915Z",
     "iopub.status.idle": "2022-05-03T18:24:00.146224Z",
     "shell.execute_reply": "2022-05-03T18:24:00.145514Z",
     "shell.execute_reply.started": "2022-05-03T18:24:00.121442Z"
    },
    "tags": []
   },
   "outputs": [
    {
     "data": {
      "text/plain": [
       "'\\nmodel = Deep4Net(\\n    in_chans,\\n    n_classes,\\n    input_window_samples=INPUT_WIN_SAMPLES,\\n    final_conv_length=1,\\n)\\nmodel.load_state_dict(torch.load(PATH))\\n'"
      ]
     },
     "execution_count": 86,
     "metadata": {},
     "output_type": "execute_result"
    }
   ],
   "source": [
    "# Save the trained model\n",
    "\n",
    "PATH = './cnndeep2min.pth'\n",
    "torch.save(model.state_dict(), PATH)\n",
    "\n",
    "#how to reload the saved model:\n",
    "'''\n",
    "model = Deep4Net(\n",
    "    in_chans,\n",
    "    n_classes,\n",
    "    input_window_samples=INPUT_WIN_SAMPLES,\n",
    "    final_conv_length=1,\n",
    ")\n",
    "model.load_state_dict(torch.load(PATH))\n",
    "'''"
   ]
  },
  {
   "cell_type": "code",
   "execution_count": 87,
   "id": "0bd79061-d002-47c6-b5ac-e0973a1d770a",
   "metadata": {
    "execution": {
     "iopub.execute_input": "2022-05-03T18:24:02.229934Z",
     "iopub.status.busy": "2022-05-03T18:24:02.229366Z",
     "iopub.status.idle": "2022-05-03T18:24:02.501207Z",
     "shell.execute_reply": "2022-05-03T18:24:02.500700Z",
     "shell.execute_reply.started": "2022-05-03T18:24:02.229872Z"
    },
    "tags": []
   },
   "outputs": [
    {
     "data": {
      "image/png": "[encoded data removed]",
      "text/plain": [
       "<Figure size 576x396 with 1 Axes>"
      ]
     },
     "metadata": {},
     "output_type": "display_data"
    }
   ],
   "source": [
    "# Losses plot\n",
    "\n",
    "plt.plot(train_losses, label='Training loss')\n",
    "plt.plot(valid_losses, label='Validation loss')\n",
    "plt.title('Training and Validation Loss')\n",
    "plt.xlabel('Number of epochs')\n",
    "plt.legend(frameon=False)\n",
    "plt.show()"
   ]
  },
  {
   "cell_type": "code",
   "execution_count": 90,
   "id": "a0f74428-6c10-460e-96df-21e15cc9d16b",
   "metadata": {
    "execution": {
     "iopub.execute_input": "2022-05-03T18:25:18.671201Z",
     "iopub.status.busy": "2022-05-03T18:25:18.670634Z",
     "iopub.status.idle": "2022-05-03T18:25:22.547863Z",
     "shell.execute_reply": "2022-05-03T18:25:22.546960Z",
     "shell.execute_reply.started": "2022-05-03T18:25:18.671138Z"
    },
    "tags": []
   },
   "outputs": [],
   "source": [
    "# Confusion matrix and Classification Report\n",
    "\n",
    "y_true = y_true.cpu()\n",
    "y_pred = y_pred.cpu()\n",
    "\n",
    "conf_matrix = confusion_matrix(y_true.flatten(), y_pred.flatten())\n",
    "cl_report = classification_report(y_true.flatten(), y_pred.flatten())"
   ]
  },
  {
   "cell_type": "code",
   "execution_count": 91,
   "id": "52c26dff-b2f5-4dfa-8fdf-af31a481ce7a",
   "metadata": {
    "execution": {
     "iopub.execute_input": "2022-05-03T18:25:22.562562Z",
     "iopub.status.busy": "2022-05-03T18:25:22.562447Z",
     "iopub.status.idle": "2022-05-03T18:25:22.567073Z",
     "shell.execute_reply": "2022-05-03T18:25:22.566561Z",
     "shell.execute_reply.started": "2022-05-03T18:25:22.562548Z"
    },
    "tags": []
   },
   "outputs": [
    {
     "name": "stdout",
     "output_type": "stream",
     "text": [
      "              precision    recall  f1-score   support\n",
      "\n",
      "         0.0       0.74      0.87      0.80    910800\n",
      "         1.0       0.80      0.65      0.72    765072\n",
      "\n",
      "    accuracy                           0.77   1675872\n",
      "   macro avg       0.77      0.76      0.76   1675872\n",
      "weighted avg       0.77      0.77      0.76   1675872\n",
      "\n"
     ]
    }
   ],
   "source": [
    "print(cl_report)"
   ]
  },
  {
   "cell_type": "code",
   "execution_count": 61,
   "id": "a480261b-c1dd-45e4-9f6f-c580d58a1726",
   "metadata": {
    "execution": {
     "iopub.execute_input": "2022-05-03T17:32:41.018696Z",
     "iopub.status.busy": "2022-05-03T17:32:41.018194Z",
     "iopub.status.idle": "2022-05-03T17:32:41.026684Z",
     "shell.execute_reply": "2022-05-03T17:32:41.025875Z",
     "shell.execute_reply.started": "2022-05-03T17:32:41.018655Z"
    },
    "tags": []
   },
   "outputs": [
    {
     "data": {
      "text/plain": [
       "array([[1., 1., 1., ..., 1., 1., 1.],\n",
       "       [1., 1., 1., ..., 1., 1., 1.],\n",
       "       [1., 1., 1., ..., 1., 1., 1.],\n",
       "       ...,\n",
       "       [0., 0., 0., ..., 0., 0., 0.],\n",
       "       [1., 1., 1., ..., 1., 1., 1.],\n",
       "       [1., 1., 1., ..., 0., 0., 0.]], dtype=float32)"
      ]
     },
     "execution_count": 61,
     "metadata": {},
     "output_type": "execute_result"
    }
   ],
   "source": [
    "y_true.numpy()\n",
    "y_pred.numpy()"
   ]
  },
  {
   "cell_type": "code",
   "execution_count": 62,
   "id": "c8f17251-e43a-4628-910a-0f23a4626092",
   "metadata": {
    "execution": {
     "iopub.execute_input": "2022-05-03T17:32:41.955628Z",
     "iopub.status.busy": "2022-05-03T17:32:41.955039Z",
     "iopub.status.idle": "2022-05-03T17:32:41.981137Z",
     "shell.execute_reply": "2022-05-03T17:32:41.980425Z",
     "shell.execute_reply.started": "2022-05-03T17:32:41.955562Z"
    },
    "tags": []
   },
   "outputs": [
    {
     "ename": "TypeError",
     "evalue": "'numpy.float64' object is not callable",
     "output_type": "error",
     "traceback": [
      "\u001b[0;31m---------------------------------------------------------------------------\u001b[0m",
      "\u001b[0;31mTypeError\u001b[0m                                 Traceback (most recent call last)",
      "Input \u001b[0;32mIn [62]\u001b[0m, in \u001b[0;36m<cell line: 1>\u001b[0;34m()\u001b[0m\n\u001b[0;32m----> 1\u001b[0m roc_auc_score \u001b[38;5;241m=\u001b[39m \u001b[43mroc_auc_score\u001b[49m\u001b[43m(\u001b[49m\u001b[43my_true\u001b[49m\u001b[43m,\u001b[49m\u001b[43m \u001b[49m\u001b[43my_pred\u001b[49m\u001b[43m)\u001b[49m\n\u001b[1;32m      2\u001b[0m roc_auc_score\n",
      "\u001b[0;31mTypeError\u001b[0m: 'numpy.float64' object is not callable"
     ]
    }
   ],
   "source": [
    "roc_auc_score = roc_auc_score(y_true, y_pred)\n",
    "roc_auc_score"
   ]
  },
  {
   "cell_type": "code",
   "execution_count": 92,
   "id": "a42352d0-f6b0-4f8c-ad65-d398f12d75d9",
   "metadata": {
    "execution": {
     "iopub.execute_input": "2022-05-03T18:25:27.139104Z",
     "iopub.status.busy": "2022-05-03T18:25:27.138364Z",
     "iopub.status.idle": "2022-05-03T18:25:27.275907Z",
     "shell.execute_reply": "2022-05-03T18:25:27.275427Z",
     "shell.execute_reply.started": "2022-05-03T18:25:27.139037Z"
    },
    "tags": []
   },
   "outputs": [
    {
     "data": {
      "image/png": "[encoded data removed]",
      "text/plain": [
       "<Figure size 576x396 with 2 Axes>"
      ]
     },
     "metadata": {},
     "output_type": "display_data"
    }
   ],
   "source": [
    "# Confusion matrix with numbers\n",
    "\n",
    "ax = sns.heatmap(conf_matrix, annot=True,  fmt = 'd', cmap='Blues')\n",
    "ax.set_title('Confusion Matrix');\n",
    "ax.set_xlabel('\\nPredicted Values')\n",
    "ax.set_ylabel('Actual Values');\n",
    "\n",
    "## Ticket labels - List must be in alphabetical order\n",
    "ax.xaxis.set_ticklabels(['False','True'])\n",
    "ax.yaxis.set_ticklabels(['False','True'])\n",
    "\n",
    "## Display the visualization of the Confusion Matrix.\n",
    "plt.show()"
   ]
  },
  {
   "cell_type": "code",
   "execution_count": 93,
   "id": "a22c5ada-fefd-4c29-9c19-a84af3f5e00a",
   "metadata": {
    "execution": {
     "iopub.execute_input": "2022-05-03T18:25:27.712181Z",
     "iopub.status.busy": "2022-05-03T18:25:27.711615Z",
     "iopub.status.idle": "2022-05-03T18:25:27.838482Z",
     "shell.execute_reply": "2022-05-03T18:25:27.838070Z",
     "shell.execute_reply.started": "2022-05-03T18:25:27.712117Z"
    },
    "tags": []
   },
   "outputs": [
    {
     "data": {
      "image/png": "[encoded data removed]",
      "text/plain": [
       "<Figure size 576x396 with 2 Axes>"
      ]
     },
     "metadata": {},
     "output_type": "display_data"
    }
   ],
   "source": [
    "# Confusion matrix with %\n",
    "\n",
    "ax1 = sns.heatmap(conf_matrix/np.sum(conf_matrix), annot=True, fmt='.2%', cmap='Blues')\n",
    "ax1.set_title('Confusion Matrix');\n",
    "ax1.set_xlabel('\\nPredicted Values')\n",
    "ax1.set_ylabel('Actual Values');\n",
    "\n",
    "## Ticket labels - List must be in alphabetical order\n",
    "ax1.xaxis.set_ticklabels(['False','True'])\n",
    "ax1.yaxis.set_ticklabels(['False','True'])\n",
    "\n",
    "## Display the visualization of the Confusion Matrix.\n",
    "plt.show()"
   ]
  },
  {
   "cell_type": "code",
   "execution_count": null,
   "id": "aaebb6a7-505c-4812-9bcd-23ad03802563",
   "metadata": {},
   "outputs": [],
   "source": []
  }
 ],
 "metadata": {
  "kernelspec": {
   "display_name": "Python 3 ",
   "language": "python",
   "name": "python3"
  },
  "language_info": {
   "codemirror_mode": {
    "name": "ipython",
    "version": 3
   },
   "file_extension": ".py",
   "mimetype": "text/x-python",
   "name": "python",
   "nbconvert_exporter": "python",
   "pygments_lexer": "ipython3",
   "version": "3.9.10"
  }
 },
 "nbformat": 4,
 "nbformat_minor": 5
}
