{
 "cells": [
  {
   "cell_type": "code",
   "execution_count": 1,
   "id": "e427b867",
   "metadata": {
    "execution": {
     "iopub.execute_input": "2022-05-08T13:35:43.002200Z",
     "iopub.status.busy": "2022-05-08T13:35:43.001693Z",
     "iopub.status.idle": "2022-05-08T13:35:45.527806Z",
     "shell.execute_reply": "2022-05-08T13:35:45.527076Z",
     "shell.execute_reply.started": "2022-05-08T13:35:43.002145Z"
    },
    "lines_to_next_cell": 2,
    "tags": []
   },
   "outputs": [
    {
     "name": "stdout",
     "output_type": "stream",
     "text": [
      "importing Jupyter notebook from PreProcessing_v1.ipynb\n",
      "importing Jupyter notebook from DataTransform.ipynb\n",
      "importing Jupyter notebook from Models.ipynb\n",
      "importing Jupyter notebook from TransformFunction.ipynb\n"
     ]
    }
   ],
   "source": [
    "\n",
    "\n",
    "import import_ipynb\n",
    "import numpy as np\n",
    "from PreProcessing_v1 import import_tuh_abnormal\n",
    "from DataTransform import data_transform, train_valid_test_split, get_parameters_for_model\n",
    "import torch\n",
    "from braindecode.preprocessing import preprocess, Preprocessor, scale as multiply\n",
    "from braindecode.util import set_random_seeds\n",
    "from braindecode.models import ShallowFBCSPNet, Deep4Net\n",
    "from torch import optim\n",
    "from Models import create_model\n",
    "import seaborn as sns\n",
    "\n",
    "\n",
    "# # Importing TUH Abnormal dataset"
   ]
  },
  {
   "cell_type": "code",
   "execution_count": 2,
   "id": "633f0951",
   "metadata": {
    "execution": {
     "iopub.execute_input": "2022-05-08T13:35:49.528521Z",
     "iopub.status.busy": "2022-05-08T13:35:49.528006Z",
     "iopub.status.idle": "2022-05-08T13:35:49.541236Z",
     "shell.execute_reply": "2022-05-08T13:35:49.535485Z",
     "shell.execute_reply.started": "2022-05-08T13:35:49.528463Z"
    },
    "lines_to_next_cell": 2,
    "tags": []
   },
   "outputs": [],
   "source": [
    "\n",
    "#TUH_PATH = 'C:/Users/Kitti/Documents/Thesis/TUH/Abnormal/SSample'\n",
    "TUH_PATH = 'TUH EEG Abnormal dataset/Abnormal/' # specify the path to the TUH Abnormal dataset\n",
    "N_JOBS = 16  # specify the number of jobs for loading and windowing\n",
    "\n",
    "# parameters to be defined for the preprocessing pipeline\n",
    "TMIN = 1 * 60\n",
    "TMAX = 2 * 60 \n",
    "SFREQ = 100\n",
    "CLIPPING = 800"
   ]
  },
  {
   "cell_type": "code",
   "execution_count": 3,
   "id": "5d8d3b6b",
   "metadata": {
    "execution": {
     "iopub.execute_input": "2022-05-08T13:35:55.382770Z",
     "iopub.status.busy": "2022-05-08T13:35:55.382272Z",
     "iopub.status.idle": "2022-05-08T13:36:46.678059Z",
     "shell.execute_reply": "2022-05-08T13:36:46.676886Z",
     "shell.execute_reply.started": "2022-05-08T13:35:55.382717Z"
    },
    "lines_to_next_cell": 2,
    "tags": []
   },
   "outputs": [],
   "source": [
    "\n",
    "\n",
    "tuh_abnormal = import_tuh_abnormal(TUH_PATH, N_JOBS)"
   ]
  },
  {
   "cell_type": "code",
   "execution_count": 4,
   "id": "20fcefe1",
   "metadata": {
    "execution": {
     "iopub.execute_input": "2022-05-08T13:39:48.183975Z",
     "iopub.status.busy": "2022-05-08T13:39:48.183464Z",
     "iopub.status.idle": "2022-05-08T13:39:48.220543Z",
     "shell.execute_reply": "2022-05-08T13:39:48.219848Z",
     "shell.execute_reply.started": "2022-05-08T13:39:48.183919Z"
    },
    "lines_to_next_cell": 2,
    "tags": []
   },
   "outputs": [],
   "source": [
    "\n",
    "\n",
    "def create_ch_mapping():\n",
    "    short_ch_names = sorted([\n",
    "        'A1', 'A2',\n",
    "        'FP1', 'FP2', 'F3', 'F4', 'C3', 'C4', 'P3', 'P4', 'O1', 'O2',\n",
    "        'F7', 'F8', 'T3', 'T4', 'T5', 'T6', 'FZ', 'CZ', 'PZ'])\n",
    "    ar_ch_names = sorted([\n",
    "        'EEG A1-REF', 'EEG A2-REF',\n",
    "        'EEG FP1-REF', 'EEG FP2-REF', 'EEG F3-REF', 'EEG F4-REF', 'EEG C3-REF',\n",
    "        'EEG C4-REF', 'EEG P3-REF', 'EEG P4-REF', 'EEG O1-REF', 'EEG O2-REF',\n",
    "        'EEG F7-REF', 'EEG F8-REF', 'EEG T3-REF', 'EEG T4-REF', 'EEG T5-REF',\n",
    "        'EEG T6-REF', 'EEG FZ-REF', 'EEG CZ-REF', 'EEG PZ-REF'])\n",
    "    le_ch_names = sorted([\n",
    "        'EEG A1-LE', 'EEG A2-LE',\n",
    "        'EEG FP1-LE', 'EEG FP2-LE', 'EEG F3-LE', 'EEG F4-LE', 'EEG C3-LE',\n",
    "        'EEG C4-LE', 'EEG P3-LE', 'EEG P4-LE', 'EEG O1-LE', 'EEG O2-LE',\n",
    "        'EEG F7-LE', 'EEG F8-LE', 'EEG T3-LE', 'EEG T4-LE', 'EEG T5-LE',\n",
    "        'EEG T6-LE', 'EEG FZ-LE', 'EEG CZ-LE', 'EEG PZ-LE'])\n",
    "    assert len(short_ch_names) == len(ar_ch_names) == len(le_ch_names)\n",
    "    ar_ch_mapping = {ch_name: short_ch_name for ch_name, short_ch_name in zip(\n",
    "        ar_ch_names, short_ch_names)}\n",
    "    le_ch_mapping = {ch_name: short_ch_name for ch_name, short_ch_name in zip(\n",
    "        le_ch_names, short_ch_names)}\n",
    "    ch_mapping = {'ar': ar_ch_mapping, 'le': le_ch_mapping}    \n",
    "    return short_ch_names, ch_mapping\n",
    "\n",
    "\n",
    "def select_by_channels(ds, short_ch_names, ch_mapping):\n",
    "    split_ids = []\n",
    "    for i, d in enumerate(ds.datasets):\n",
    "        ref = 'ar' if d.raw.ch_names[0].endswith('-REF') else 'le'\n",
    "        # these are the channels we are looking for\n",
    "        seta = set(ch_mapping[ref].keys())\n",
    "        # these are the channels of the recoding\n",
    "        setb = set(d.raw.ch_names)\n",
    "        # if recording contains all channels we are looking for, include it\n",
    "        if seta.issubset(setb):\n",
    "            split_ids.append(i)\n",
    "    return ds.split(split_ids)['0']\n",
    "\n",
    "\n",
    "def custom_crop(raw, tmin=0.0, tmax=None, include_tmax=True):\n",
    "    # crop recordings to tmin – tmax. can be incomplete if recording\n",
    "    # has lower duration than tmax\n",
    "    # by default mne fails if tmax is bigger than duration\n",
    "    tmax = min((raw.n_times - 1) / raw.info['sfreq'], tmax)\n",
    "    raw.crop(tmin=tmin, tmax=tmax, include_tmax=include_tmax)\n",
    "    \n",
    "    \n",
    "def custom_rename_channels(raw, mapping):\n",
    "    # rename channels which are dependent on referencing:\n",
    "    # le: EEG 01-LE, ar: EEG 01-REF\n",
    "    # mne fails if the mapping contains channels as keys that are not present\n",
    "    # in the raw\n",
    "    reference = raw.ch_names[0].split('-')[-1].lower()\n",
    "    assert reference in ['le', 'ref'], 'unexpected referencing'\n",
    "    reference = 'le' if reference == 'le' else 'ar'\n",
    "    raw.rename_channels(mapping[reference])\n",
    "    \n",
    "short_ch_names, ch_mapping = create_ch_mapping()\n",
    "\n",
    "preprocessors = [\n",
    "        Preprocessor(custom_crop, tmin=TMIN, tmax=TMAX, include_tmax=True,\n",
    "                     apply_on_array=False),\n",
    "        Preprocessor('set_eeg_reference', ref_channels='average', ch_type='eeg'), # mne Raw class function\n",
    "        Preprocessor(custom_rename_channels, mapping=ch_mapping, # rename channels to short channel names\n",
    "                     apply_on_array=False), #\n",
    "        Preprocessor('pick_channels', ch_names=short_ch_names, ordered=True), # mne Raw class function\n",
    "        Preprocessor(multiply, factor=1e6, apply_on_array=True), # scaling signals to microvolt\n",
    "        Preprocessor(np.clip, a_min=-CLIPPING, a_max=CLIPPING, apply_on_array=True), # clip outlier values to +/- 800 micro volts\n",
    "        Preprocessor('resample', sfreq=SFREQ), # mne Raw class function\n",
    "    ]"
   ]
  },
  {
   "cell_type": "code",
   "execution_count": 5,
   "id": "c933580e",
   "metadata": {
    "execution": {
     "iopub.execute_input": "2022-05-08T13:39:52.178426Z",
     "iopub.status.busy": "2022-05-08T13:39:52.177932Z",
     "iopub.status.idle": "2022-05-08T13:40:09.027074Z",
     "shell.execute_reply": "2022-05-08T13:40:09.025940Z",
     "shell.execute_reply.started": "2022-05-08T13:39:52.178371Z"
    },
    "lines_to_next_cell": 2,
    "tags": []
   },
   "outputs": [],
   "source": [
    "\n",
    "\n",
    "\n",
    "\n",
    "tuh_preproc = preprocess(\n",
    "        concat_ds=tuh_abnormal,\n",
    "        preprocessors=preprocessors,\n",
    "        n_jobs=N_JOBS,\n",
    "        save_dir=None\n",
    "    )\n",
    "\n",
    "\n",
    "# # Data Transform"
   ]
  },
  {
   "cell_type": "code",
   "execution_count": 6,
   "id": "d664e08c",
   "metadata": {
    "execution": {
     "iopub.execute_input": "2022-05-08T13:40:12.666618Z",
     "iopub.status.busy": "2022-05-08T13:40:12.665998Z",
     "iopub.status.idle": "2022-05-08T13:40:12.907256Z",
     "shell.execute_reply": "2022-05-08T13:40:12.906657Z",
     "shell.execute_reply.started": "2022-05-08T13:40:12.666563Z"
    },
    "tags": []
   },
   "outputs": [],
   "source": [
    "TRAIN_SIZE=0.9\n",
    "tuh_train, tuh_val, tuh_test = train_valid_test_split(tuh_preproc, train_size=TRAIN_SIZE)\n",
    "\n"
   ]
  },
  {
   "cell_type": "code",
   "execution_count": 7,
   "id": "02f05702",
   "metadata": {
    "execution": {
     "iopub.execute_input": "2022-05-08T13:40:13.748392Z",
     "iopub.status.busy": "2022-05-08T13:40:13.747905Z",
     "iopub.status.idle": "2022-05-08T13:40:13.753382Z",
     "shell.execute_reply": "2022-05-08T13:40:13.752355Z",
     "shell.execute_reply.started": "2022-05-08T13:40:13.748337Z"
    },
    "tags": []
   },
   "outputs": [],
   "source": [
    "\n",
    "\n",
    "# Extract number of chans and time steps from dataset\n",
    "\n"
   ]
  },
  {
   "cell_type": "code",
   "execution_count": 8,
   "id": "ce13b445",
   "metadata": {
    "execution": {
     "iopub.execute_input": "2022-05-08T13:40:23.427696Z",
     "iopub.status.busy": "2022-05-08T13:40:23.427161Z",
     "iopub.status.idle": "2022-05-08T13:40:23.516633Z",
     "shell.execute_reply": "2022-05-08T13:40:23.515981Z",
     "shell.execute_reply.started": "2022-05-08T13:40:23.427640Z"
    },
    "tags": []
   },
   "outputs": [],
   "source": [
    "\n",
    "\n",
    "cuda = torch.cuda.is_available()  # check if GPU is available, if True chooses to use it\n",
    "device = 'cuda' if cuda else 'cpu'\n",
    "if cuda:\n",
    "    torch.backends.cudnn.benchmark = True\n",
    "# Set random seed to be able to roughly reproduce results\n",
    "# Note that with cudnn benchmark set to True, GPU indeterminism\n",
    "# may still make results substantially different between runs.\n",
    "# To obtain more consistent results at the cost of increased computation time,\n",
    "# you can set `cudnn_benchmark=False` in `set_random_seeds`\n",
    "# or remove `torch.backends.cudnn.benchmark = True`\n",
    "seed = 20200220\n",
    "set_random_seeds(seed=seed, cuda=cuda)\n",
    "\n",
    "# Required parameters for model creation\n",
    "# \n",
    "INPUT_WIN_SAMPLES = 6000\n",
    "INC_CHANS, INPUT_SIZE_SAMPLES = get_parameters_for_model(tuh_train)\n",
    "N_CLASSES = 2\n",
    "MODEL_NAME = \"shallow\" # it can either be shallow, deep, or hybrid\n",
    "FINAL_CONV_LENGTH = 25\n",
    "\n",
    "model = create_model(MODEL_NAME, INC_CHANS, N_CLASSES, INPUT_WIN_SAMPLES, FINAL_CONV_LENGTH)\n",
    "\n",
    "\n",
    "# Send model to GPU\n",
    "if cuda:\n",
    "    model.to(device)\n",
    "    \n",
    "    "
   ]
  },
  {
   "cell_type": "code",
   "execution_count": 9,
   "id": "2e1b5be5",
   "metadata": {
    "execution": {
     "iopub.execute_input": "2022-05-08T13:40:24.752699Z",
     "iopub.status.busy": "2022-05-08T13:40:24.752042Z",
     "iopub.status.idle": "2022-05-08T13:40:42.050699Z",
     "shell.execute_reply": "2022-05-08T13:40:42.049164Z",
     "shell.execute_reply.started": "2022-05-08T13:40:24.752642Z"
    },
    "lines_to_next_cell": 2,
    "tags": []
   },
   "outputs": [],
   "source": [
    "BATCH_SIZE=64\n",
    "train_loader, val_loader, test_loader = data_transform(tuh_train, tuh_val, tuh_test, model, N_JOBS, train_size=TRAIN_SIZE, batch_size=BATCH_SIZE, input_window_samples=INPUT_WIN_SAMPLES, in_chans = INC_CHANS)"
   ]
  },
  {
   "cell_type": "code",
   "execution_count": 10,
   "id": "ddc08eac",
   "metadata": {
    "execution": {
     "iopub.execute_input": "2022-05-08T13:47:03.660257Z",
     "iopub.status.busy": "2022-05-08T13:47:03.659747Z",
     "iopub.status.idle": "2022-05-08T13:47:03.668851Z",
     "shell.execute_reply": "2022-05-08T13:47:03.667734Z",
     "shell.execute_reply.started": "2022-05-08T13:47:03.660202Z"
    }
   },
   "outputs": [
    {
     "data": {
      "text/plain": [
       "39"
      ]
     },
     "execution_count": 10,
     "metadata": {},
     "output_type": "execute_result"
    }
   ],
   "source": [
    "\n",
    "\n",
    "len(train_loader)\n",
    "\n",
    "\n",
    "# # Training and testing"
   ]
  },
  {
   "cell_type": "code",
   "execution_count": 12,
   "id": "172b5740",
   "metadata": {
    "execution": {
     "iopub.execute_input": "2022-05-08T13:47:16.529224Z",
     "iopub.status.busy": "2022-05-08T13:47:16.528777Z",
     "iopub.status.idle": "2022-05-08T13:47:16.547222Z",
     "shell.execute_reply": "2022-05-08T13:47:16.546517Z",
     "shell.execute_reply.started": "2022-05-08T13:47:16.529188Z"
    },
    "lines_to_next_cell": 2,
    "tags": []
   },
   "outputs": [
    {
     "name": "stdout",
     "output_type": "stream",
     "text": [
      "importing Jupyter notebook from TrainingValidationTesting_CNNs.ipynb\n"
     ]
    }
   ],
   "source": [
    "\n",
    "\n",
    "from TrainingValidationTesting_CNNs import train_model, test_model"
   ]
  },
  {
   "cell_type": "code",
   "execution_count": 13,
   "id": "97ffc089",
   "metadata": {
    "execution": {
     "iopub.execute_input": "2022-05-08T13:47:21.302416Z",
     "iopub.status.busy": "2022-05-08T13:47:21.301913Z",
     "iopub.status.idle": "2022-05-08T13:47:21.310438Z",
     "shell.execute_reply": "2022-05-08T13:47:21.309528Z",
     "shell.execute_reply.started": "2022-05-08T13:47:21.302361Z"
    },
    "lines_to_next_cell": 2
   },
   "outputs": [],
   "source": [
    "\n",
    "\n",
    "# hyperparameters for training the model\n",
    "lr =  0.01\n",
    "optimizer = optim.Adam(params=model.parameters(), lr=lr)\n",
    "criterion = torch.nn.NLLLoss()\n",
    "# criterion = torch.nn.BCELoss()\n",
    "n_epochs = 35  \n",
    "patience = 10\n",
    "\n",
    "# Using multiple GPUs\n",
    "# model = torch.nn.DataParallel(model)"
   ]
  },
  {
   "cell_type": "code",
   "execution_count": null,
   "id": "5ef75555",
   "metadata": {},
   "outputs": [],
   "source": [
    "\n",
    "trained_model, train_losses, train_accs, valid_losses, valid_accs = train_model(model, device, criterion, optimizer, train_loader, val_loader, n_epochs, patience)"
   ]
  },
  {
   "cell_type": "code",
   "execution_count": null,
   "id": "b223fcfe",
   "metadata": {},
   "outputs": [],
   "source": [
    "\n",
    "\n",
    "trained_model.to(device)\n",
    "\n"
   ]
  },
  {
   "cell_type": "code",
   "execution_count": null,
   "id": "f2bae9c3",
   "metadata": {
    "lines_to_next_cell": 2
   },
   "outputs": [],
   "source": [
    "\n",
    "\n",
    "x_test, y_test, y_pred, accuracy = test_model(device, trained_model, test_loader)"
   ]
  },
  {
   "cell_type": "code",
   "execution_count": 14,
   "id": "06259f16-dbc0-41d6-8570-19a212f8f418",
   "metadata": {
    "execution": {
     "iopub.execute_input": "2022-05-08T13:48:02.471144Z",
     "iopub.status.busy": "2022-05-08T13:48:02.470625Z",
     "iopub.status.idle": "2022-05-08T13:48:02.477447Z",
     "shell.execute_reply": "2022-05-08T13:48:02.476207Z",
     "shell.execute_reply.started": "2022-05-08T13:48:02.471088Z"
    }
   },
   "outputs": [],
   "source": [
    "# Model's path\n",
    "PATH = './cnnshallow1min.pth'"
   ]
  },
  {
   "cell_type": "code",
   "execution_count": null,
   "id": "d602fc41",
   "metadata": {
    "lines_to_next_cell": 2
   },
   "outputs": [],
   "source": [
    "\n",
    "\n",
    "# Save the trained model\n",
    "\n",
    "PATH = './cnnshallow16min.pth'\n",
    "torch.save(model.state_dict(), PATH)\n",
    "\n"
   ]
  },
  {
   "cell_type": "code",
   "execution_count": 16,
   "id": "fc052004-108d-4a59-91b9-d3bbb1336c7b",
   "metadata": {
    "execution": {
     "iopub.execute_input": "2022-05-08T13:48:10.698472Z",
     "iopub.status.busy": "2022-05-08T13:48:10.697977Z",
     "iopub.status.idle": "2022-05-08T13:48:10.710976Z",
     "shell.execute_reply": "2022-05-08T13:48:10.710331Z",
     "shell.execute_reply.started": "2022-05-08T13:48:10.698416Z"
    },
    "tags": []
   },
   "outputs": [
    {
     "data": {
      "text/plain": [
       "<All keys matched successfully>"
      ]
     },
     "execution_count": 16,
     "metadata": {},
     "output_type": "execute_result"
    }
   ],
   "source": [
    "# to reload the saved model:\n",
    "\n",
    "model.load_state_dict(torch.load(PATH))"
   ]
  },
  {
   "cell_type": "code",
   "execution_count": 17,
   "id": "17d95484",
   "metadata": {
    "execution": {
     "iopub.execute_input": "2022-05-08T13:48:15.493634Z",
     "iopub.status.busy": "2022-05-08T13:48:15.493106Z",
     "iopub.status.idle": "2022-05-08T13:48:19.878995Z",
     "shell.execute_reply": "2022-05-08T13:48:19.878416Z",
     "shell.execute_reply.started": "2022-05-08T13:48:15.493576Z"
    }
   },
   "outputs": [
    {
     "name": "stdout",
     "output_type": "stream",
     "text": [
      "Accuracy: 0.671\n"
     ]
    }
   ],
   "source": [
    "x_test, y_test, y_pred, accuracy = test_model(device, model, test_loader)"
   ]
  },
  {
   "cell_type": "code",
   "execution_count": 18,
   "id": "bfb6f2b9",
   "metadata": {
    "execution": {
     "iopub.execute_input": "2022-05-08T13:48:32.123966Z",
     "iopub.status.busy": "2022-05-08T13:48:32.123283Z",
     "iopub.status.idle": "2022-05-08T13:48:32.131034Z",
     "shell.execute_reply": "2022-05-08T13:48:32.129716Z",
     "shell.execute_reply.started": "2022-05-08T13:48:32.123909Z"
    },
    "lines_to_next_cell": 2,
    "title": "Evaluation of the results"
   },
   "outputs": [],
   "source": [
    "from sklearn.metrics import confusion_matrix, classification_report, roc_auc_score, RocCurveDisplay"
   ]
  },
  {
   "cell_type": "code",
   "execution_count": 19,
   "id": "935cc0a6",
   "metadata": {
    "execution": {
     "iopub.execute_input": "2022-05-08T13:48:33.731070Z",
     "iopub.status.busy": "2022-05-08T13:48:33.730415Z",
     "iopub.status.idle": "2022-05-08T13:48:33.738667Z",
     "shell.execute_reply": "2022-05-08T13:48:33.737432Z",
     "shell.execute_reply.started": "2022-05-08T13:48:33.731013Z"
    },
    "lines_to_next_cell": 2,
    "title": "Transform tensors from test_model"
   },
   "outputs": [],
   "source": [
    "# Reshaping tensors\n",
    "\n",
    "x_test = x_test.flatten().cpu()\n",
    "y_test = y_test.flatten().cpu()\n",
    "y_pred = y_pred.flatten().cpu()"
   ]
  },
  {
   "cell_type": "code",
   "execution_count": 20,
   "id": "9da2969b",
   "metadata": {
    "execution": {
     "iopub.execute_input": "2022-05-08T13:48:35.341058Z",
     "iopub.status.busy": "2022-05-08T13:48:35.340399Z",
     "iopub.status.idle": "2022-05-08T13:48:35.612724Z",
     "shell.execute_reply": "2022-05-08T13:48:35.611709Z",
     "shell.execute_reply.started": "2022-05-08T13:48:35.341000Z"
    },
    "title": "Training losses and accuracy plot"
   },
   "outputs": [
    {
     "ename": "NameError",
     "evalue": "name 'train_losses' is not defined",
     "output_type": "error",
     "traceback": [
      "\u001b[0;31m---------------------------------------------------------------------------\u001b[0m",
      "\u001b[0;31mNameError\u001b[0m                                 Traceback (most recent call last)",
      "Input \u001b[0;32mIn [20]\u001b[0m, in \u001b[0;36m<cell line: 4>\u001b[0;34m()\u001b[0m\n\u001b[1;32m      1\u001b[0m \u001b[38;5;28;01mimport\u001b[39;00m \u001b[38;5;21;01mmatplotlib\u001b[39;00m\u001b[38;5;21;01m.\u001b[39;00m\u001b[38;5;21;01mpyplot\u001b[39;00m \u001b[38;5;28;01mas\u001b[39;00m \u001b[38;5;21;01mplt\u001b[39;00m\n\u001b[1;32m      3\u001b[0m fig,ax \u001b[38;5;241m=\u001b[39m plt\u001b[38;5;241m.\u001b[39msubplots()\n\u001b[0;32m----> 4\u001b[0m ax\u001b[38;5;241m.\u001b[39mplot(\u001b[43mtrain_losses\u001b[49m, marker\u001b[38;5;241m=\u001b[39m\u001b[38;5;124m\"\u001b[39m\u001b[38;5;124mo\u001b[39m\u001b[38;5;124m\"\u001b[39m, color\u001b[38;5;241m=\u001b[39m\u001b[38;5;124m\"\u001b[39m\u001b[38;5;124morangered\u001b[39m\u001b[38;5;124m\"\u001b[39m, label\u001b[38;5;241m=\u001b[39m\u001b[38;5;124m\"\u001b[39m\u001b[38;5;124mTraining loss\u001b[39m\u001b[38;5;124m\"\u001b[39m)\n\u001b[1;32m      5\u001b[0m ax\u001b[38;5;241m.\u001b[39mset_xlabel(\u001b[38;5;124m\"\u001b[39m\u001b[38;5;124mNumber of epochs\u001b[39m\u001b[38;5;124m\"\u001b[39m)\n\u001b[1;32m      6\u001b[0m ax\u001b[38;5;241m.\u001b[39mset_ylabel(\u001b[38;5;124m\"\u001b[39m\u001b[38;5;124mLoss\u001b[39m\u001b[38;5;124m\"\u001b[39m, color\u001b[38;5;241m=\u001b[39m\u001b[38;5;124m\"\u001b[39m\u001b[38;5;124morangered\u001b[39m\u001b[38;5;124m\"\u001b[39m)\n",
      "\u001b[0;31mNameError\u001b[0m: name 'train_losses' is not defined"
     ]
    },
    {
     "data": {
      "image/png": "[encoded data removed]",
      "text/plain": [
       "<Figure size 576x396 with 1 Axes>"
      ]
     },
     "metadata": {},
     "output_type": "display_data"
    }
   ],
   "source": [
    "import matplotlib.pyplot as plt\n",
    "\n",
    "fig,ax = plt.subplots()\n",
    "ax.plot(train_losses, marker=\"o\", color=\"orangered\", label=\"Training loss\")\n",
    "ax.set_xlabel(\"Number of epochs\")\n",
    "ax.set_ylabel(\"Loss\", color=\"orangered\")\n",
    "\n",
    "# twin object for two different y-axis on the sample plot\n",
    "ax2=ax.twinx()\n",
    "ax2.plot(train_accs, marker=\"o\", color=\"cornflowerblue\", label=\"Training accuracy\")\n",
    "ax2.set_ylabel(\"Accuracy\", color=\"cornflowerblue\")\n",
    "\n",
    "plt.title(\"Training loss and accuracy per epoch\", fontsize=14)\n",
    "plt.show()\n"
   ]
  },
  {
   "cell_type": "code",
   "execution_count": null,
   "id": "5ac27314-18f4-4f68-b7e7-65ed4c0fb05e",
   "metadata": {},
   "outputs": [],
   "source": [
    "# Save plot as file\n",
    "'''\n",
    "fig.savefig('two_different_y_axis_for_single_python_plot_with_twinx.jpg',\n",
    "            format='jpeg',\n",
    "            dpi=100,\n",
    "            bbox_inches='tight')\n",
    "'''"
   ]
  },
  {
   "cell_type": "code",
   "execution_count": 21,
   "id": "d12d90fe-5d5b-437d-8435-ff4cb6332f41",
   "metadata": {
    "execution": {
     "iopub.execute_input": "2022-05-08T13:52:39.632507Z",
     "iopub.status.busy": "2022-05-08T13:52:39.631917Z",
     "iopub.status.idle": "2022-05-08T13:52:39.661850Z",
     "shell.execute_reply": "2022-05-08T13:52:39.660284Z",
     "shell.execute_reply.started": "2022-05-08T13:52:39.632445Z"
    }
   },
   "outputs": [
    {
     "ename": "NameError",
     "evalue": "name 'train_losses' is not defined",
     "output_type": "error",
     "traceback": [
      "\u001b[0;31m---------------------------------------------------------------------------\u001b[0m",
      "\u001b[0;31mNameError\u001b[0m                                 Traceback (most recent call last)",
      "Input \u001b[0;32mIn [21]\u001b[0m, in \u001b[0;36m<cell line: 3>\u001b[0;34m()\u001b[0m\n\u001b[1;32m      1\u001b[0m \u001b[38;5;66;03m# In[87]: Learning curve with training and validation loss\u001b[39;00m\n\u001b[0;32m----> 3\u001b[0m plt\u001b[38;5;241m.\u001b[39mplot(\u001b[43mtrain_losses\u001b[49m, marker\u001b[38;5;241m=\u001b[39m\u001b[38;5;124m\"\u001b[39m\u001b[38;5;124m.\u001b[39m\u001b[38;5;124m\"\u001b[39m, color\u001b[38;5;241m=\u001b[39m\u001b[38;5;124m\"\u001b[39m\u001b[38;5;124mcornflowerblue\u001b[39m\u001b[38;5;124m\"\u001b[39m, label\u001b[38;5;241m=\u001b[39m\u001b[38;5;124m'\u001b[39m\u001b[38;5;124mTraining loss\u001b[39m\u001b[38;5;124m'\u001b[39m)\n\u001b[1;32m      4\u001b[0m plt\u001b[38;5;241m.\u001b[39mplot(valid_losses, marker\u001b[38;5;241m=\u001b[39m\u001b[38;5;124m\"\u001b[39m\u001b[38;5;124m.\u001b[39m\u001b[38;5;124m\"\u001b[39m, color\u001b[38;5;241m=\u001b[39m\u001b[38;5;124m\"\u001b[39m\u001b[38;5;124mmediumseagreen\u001b[39m\u001b[38;5;124m\"\u001b[39m, label\u001b[38;5;241m=\u001b[39m\u001b[38;5;124m'\u001b[39m\u001b[38;5;124mValidation loss\u001b[39m\u001b[38;5;124m'\u001b[39m)\n\u001b[1;32m      5\u001b[0m plt\u001b[38;5;241m.\u001b[39mtitle(\u001b[38;5;124m'\u001b[39m\u001b[38;5;124mTraining and Validation Losses\u001b[39m\u001b[38;5;124m'\u001b[39m, fontsize\u001b[38;5;241m=\u001b[39m\u001b[38;5;241m14\u001b[39m)\n",
      "\u001b[0;31mNameError\u001b[0m: name 'train_losses' is not defined"
     ]
    }
   ],
   "source": [
    "# In[87]: Learning curve with training and validation loss\n",
    "\n",
    "plt.plot(train_losses, marker=\".\", color=\"cornflowerblue\", label='Training loss')\n",
    "plt.plot(valid_losses, marker=\".\", color=\"mediumseagreen\", label='Validation loss')\n",
    "plt.title('Training and Validation Losses', fontsize=14)\n",
    "plt.xlabel('Number of epochs')\n",
    "plt.legend(frameon=False)\n",
    "plt.show()"
   ]
  },
  {
   "cell_type": "code",
   "execution_count": 22,
   "id": "67815edf",
   "metadata": {
    "execution": {
     "iopub.execute_input": "2022-05-08T13:52:51.602602Z",
     "iopub.status.busy": "2022-05-08T13:52:51.602022Z",
     "iopub.status.idle": "2022-05-08T13:52:51.629723Z",
     "shell.execute_reply": "2022-05-08T13:52:51.628192Z",
     "shell.execute_reply.started": "2022-05-08T13:52:51.602543Z"
    },
    "title": "Learning curve or training and validation accuracy"
   },
   "outputs": [
    {
     "ename": "NameError",
     "evalue": "name 'train_accs' is not defined",
     "output_type": "error",
     "traceback": [
      "\u001b[0;31m---------------------------------------------------------------------------\u001b[0m",
      "\u001b[0;31mNameError\u001b[0m                                 Traceback (most recent call last)",
      "Input \u001b[0;32mIn [22]\u001b[0m, in \u001b[0;36m<cell line: 3>\u001b[0;34m()\u001b[0m\n\u001b[1;32m      1\u001b[0m \u001b[38;5;66;03m# Learning curve with training and validation accuracy\u001b[39;00m\n\u001b[0;32m----> 3\u001b[0m plt\u001b[38;5;241m.\u001b[39mplot(\u001b[43mtrain_accs\u001b[49m, marker\u001b[38;5;241m=\u001b[39m\u001b[38;5;124m\"\u001b[39m\u001b[38;5;124m.\u001b[39m\u001b[38;5;124m\"\u001b[39m, color\u001b[38;5;241m=\u001b[39m\u001b[38;5;124m\"\u001b[39m\u001b[38;5;124mcornflowerblue\u001b[39m\u001b[38;5;124m\"\u001b[39m, label\u001b[38;5;241m=\u001b[39m\u001b[38;5;124m'\u001b[39m\u001b[38;5;124mTraining loss\u001b[39m\u001b[38;5;124m'\u001b[39m)\n\u001b[1;32m      4\u001b[0m plt\u001b[38;5;241m.\u001b[39mplot(valid_losses, marker\u001b[38;5;241m=\u001b[39m\u001b[38;5;124m\"\u001b[39m\u001b[38;5;124m.\u001b[39m\u001b[38;5;124m\"\u001b[39m, color\u001b[38;5;241m=\u001b[39m\u001b[38;5;124m\"\u001b[39m\u001b[38;5;124mmediumseagreen\u001b[39m\u001b[38;5;124m\"\u001b[39m, label\u001b[38;5;241m=\u001b[39m\u001b[38;5;124m'\u001b[39m\u001b[38;5;124mValidation loss\u001b[39m\u001b[38;5;124m'\u001b[39m)\n\u001b[1;32m      5\u001b[0m plt\u001b[38;5;241m.\u001b[39mtitle(\u001b[38;5;124m'\u001b[39m\u001b[38;5;124mTraining and Validation Losses\u001b[39m\u001b[38;5;124m'\u001b[39m, fontsize\u001b[38;5;241m=\u001b[39m\u001b[38;5;241m14\u001b[39m)\n",
      "\u001b[0;31mNameError\u001b[0m: name 'train_accs' is not defined"
     ]
    }
   ],
   "source": [
    "# Learning curve with training and validation accuracy\n",
    "\n",
    "plt.plot(train_accs, marker=\".\", color=\"cornflowerblue\", label='Training loss')\n",
    "plt.plot(valid_losses, marker=\".\", color=\"mediumseagreen\", label='Validation loss')\n",
    "plt.title('Training and Validation Losses', fontsize=14)\n",
    "plt.xlabel('Number of epochs')\n",
    "plt.legend(frameon=False)\n",
    "plt.show()"
   ]
  },
  {
   "cell_type": "code",
   "execution_count": 27,
   "id": "29d59d7b",
   "metadata": {
    "execution": {
     "iopub.execute_input": "2022-05-08T13:53:50.707783Z",
     "iopub.status.busy": "2022-05-08T13:53:50.707174Z",
     "iopub.status.idle": "2022-05-08T13:53:50.833311Z",
     "shell.execute_reply": "2022-05-08T13:53:50.832581Z",
     "shell.execute_reply.started": "2022-05-08T13:53:50.707721Z"
    },
    "tags": [],
    "title": "ROC Curve plot"
   },
   "outputs": [
    {
     "data": {
      "image/png": "[encoded data removed]",
      "text/plain": [
       "<Figure size 576x396 with 1 Axes>"
      ]
     },
     "metadata": {},
     "output_type": "display_data"
    }
   ],
   "source": [
    "''' \n",
    "The ROC Curve plots two parameters: the True Positive Rate (TPR), a synonim to recall,\n",
    "and the False Positive Rate (FPR). \n",
    "The plot also shows the ROC AUC score.\n",
    "By default, the class considered as the positive (It means Abnormal in our case).\n",
    "\n",
    "'''\n",
    "\n",
    "RocCurveDisplay.from_predictions(y_test, y_pred, pos_label=None)\n",
    "plt.title(\"ROC Curve\")\n",
    "plt.show()\n"
   ]
  },
  {
   "cell_type": "code",
   "execution_count": 24,
   "id": "4e83af7d-cffd-48e2-9ec6-0a6d864f20d9",
   "metadata": {
    "execution": {
     "iopub.execute_input": "2022-05-08T13:52:57.448750Z",
     "iopub.status.busy": "2022-05-08T13:52:57.447975Z",
     "iopub.status.idle": "2022-05-08T13:52:57.710967Z",
     "shell.execute_reply": "2022-05-08T13:52:57.709786Z",
     "shell.execute_reply.started": "2022-05-08T13:52:57.448686Z"
    }
   },
   "outputs": [],
   "source": [
    "# In[90]: Confusion matrix and Classification Report\n",
    "\n",
    "conf_matrix = confusion_matrix(y_test, y_pred)\n",
    "cl_report = classification_report(y_test, y_pred)"
   ]
  },
  {
   "cell_type": "code",
   "execution_count": 25,
   "id": "c4f05bdf",
   "metadata": {
    "execution": {
     "iopub.execute_input": "2022-05-08T13:52:58.561637Z",
     "iopub.status.busy": "2022-05-08T13:52:58.561082Z",
     "iopub.status.idle": "2022-05-08T13:52:58.570032Z",
     "shell.execute_reply": "2022-05-08T13:52:58.568172Z",
     "shell.execute_reply.started": "2022-05-08T13:52:58.561580Z"
    },
    "title": "Print classification report"
   },
   "outputs": [
    {
     "name": "stdout",
     "output_type": "stream",
     "text": [
      "              precision    recall  f1-score   support\n",
      "\n",
      "         0.0       0.73      0.63      0.68     55500\n",
      "         1.0       0.62      0.72      0.67     46620\n",
      "\n",
      "    accuracy                           0.67    102120\n",
      "   macro avg       0.67      0.67      0.67    102120\n",
      "weighted avg       0.68      0.67      0.67    102120\n",
      "\n"
     ]
    }
   ],
   "source": [
    "\n",
    "print(cl_report)"
   ]
  },
  {
   "cell_type": "code",
   "execution_count": 26,
   "id": "524ec8cb",
   "metadata": {
    "execution": {
     "iopub.execute_input": "2022-05-08T13:53:01.288932Z",
     "iopub.status.busy": "2022-05-08T13:53:01.288371Z",
     "iopub.status.idle": "2022-05-08T13:53:01.436886Z",
     "shell.execute_reply": "2022-05-08T13:53:01.436205Z",
     "shell.execute_reply.started": "2022-05-08T13:53:01.288875Z"
    },
    "lines_to_next_cell": 2,
    "title": "Plot Confusion matrix"
   },
   "outputs": [
    {
     "data": {
      "image/png": "[encoded data removed]",
      "text/plain": [
       "<Figure size 576x396 with 2 Axes>"
      ]
     },
     "metadata": {},
     "output_type": "display_data"
    }
   ],
   "source": [
    "# Confusion matrix\n",
    "\n",
    "group_names = ['True Neg','False Pos','False Neg','True Pos']\n",
    "group_counts = [\"{0:0.0f}\".format(value) for value in\n",
    "                conf_matrix.flatten()]\n",
    "group_percentages = [\"{0:.2%}\".format(value) for value in\n",
    "                     conf_matrix.flatten()/np.sum(conf_matrix)]\n",
    "labels = [f\"{v1}\\n{v2}\\n{v3}\" for v1, v2, v3 in\n",
    "          zip(group_names,group_counts,group_percentages)]\n",
    "labels = np.asarray(labels).reshape(2,2)\n",
    "\n",
    "ax = plt.axes()\n",
    "sns.heatmap(conf_matrix, annot=labels, fmt='', cmap='YlGn')\n",
    "ax.set_title('Confusion Matrix', fontsize=14)\n",
    "ax.set_xlabel('Predicted labels')\n",
    "ax.set_ylabel('True labels')\n",
    "plt.show()"
   ]
  },
  {
   "cell_type": "code",
   "execution_count": null,
   "id": "1baaec81-ee99-41e0-8b0d-a55feb54206e",
   "metadata": {},
   "outputs": [],
   "source": []
  }
 ],
 "metadata": {
  "jupytext": {
   "cell_metadata_filter": "title,-all",
   "encoding": "# coding: utf-8",
   "executable": "/usr/bin/env python",
   "main_language": "python",
   "notebook_metadata_filter": "-all"
  },
  "kernelspec": {
   "display_name": "Python 3 ",
   "language": "python",
   "name": "python3"
  },
  "language_info": {
   "codemirror_mode": {
    "name": "ipython",
    "version": 3
   },
   "file_extension": ".py",
   "mimetype": "text/x-python",
   "name": "python",
   "nbconvert_exporter": "python",
   "pygments_lexer": "ipython3",
   "version": "3.9.10"
  }
 },
 "nbformat": 4,
 "nbformat_minor": 5
}
