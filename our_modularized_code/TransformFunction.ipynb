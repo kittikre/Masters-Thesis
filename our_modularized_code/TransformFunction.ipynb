{
 "cells": [
  {
   "cell_type": "code",
   "execution_count": null,
   "id": "18da581d",
   "metadata": {
    "lines_to_next_cell": 1
   },
   "outputs": [],
   "source": [
    "\"\"\"\n",
    "Created on Fri May  6 09:05:23 2022\n",
    "\n",
    "@author: Kitti\n",
    "\"\"\"\n",
    "\n",
    "def reshape_lstm_input(x):\n",
    "    \"\"\"Reshape Conv2d output to 3D,\n",
    "    match LSTM input\n",
    "    -------\n",
    "    x: torch.Tensor\n",
    "        reshaped tensor\n",
    "    \"\"\"\n",
    "    x = x.view(x.size(0), -1, x.size(3)) # [batch_size, features=channels*height, seq_len=width]\n",
    "    # [batch_size, seq_len, features] as batch_first=True\n",
    "    return x.permute(0, 2, 1)\n",
    "\n",
    "\n",
    "def extract_output_from_lstm(x):\n",
    "    \"\"\"\n",
    "\n",
    "    Parameters\n",
    "    ----------\n",
    "    x : torch.Tensor\n",
    "        DESCRIPTION.\n",
    "\n",
    "    Returns\n",
    "    x: output of the LSTM layer\n",
    "\n",
    "    \"\"\"\n",
    "    x = x[0]\n",
    "    return x"
   ]
  },
  {
   "cell_type": "code",
   "execution_count": null,
   "id": "b2b50f30",
   "metadata": {
    "lines_to_next_cell": 2
   },
   "outputs": [],
   "source": [
    "\n",
    "def permute_final_output(x):\n",
    "    \"\"\"\n",
    "    \n",
    "\n",
    "    Parameters\n",
    "    ----------\n",
    "    x : TYPE\n",
    "        DESCRIPTION.\n",
    "\n",
    "    Returns\n",
    "    -------\n",
    "    None.\n",
    "\n",
    "    \"\"\"    \n",
    "    return x.permute(0,2,1)"
   ]
  }
 ],
 "metadata": {
  "jupytext": {
   "cell_metadata_filter": "-all",
   "encoding": "# -*- coding: utf-8 -*-",
   "main_language": "python",
   "notebook_metadata_filter": "-all"
  }
 },
 "nbformat": 4,
 "nbformat_minor": 5
}
